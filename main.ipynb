{
 "cells": [
  {
   "cell_type": "code",
   "execution_count": 1,
   "metadata": {},
   "outputs": [
    {
     "name": "stderr",
     "output_type": "stream",
     "text": [
      "[nltk_data] Error loading vader_lexicon: <urlopen error [Errno 101]\n",
      "[nltk_data]     Network is unreachable>\n"
     ]
    }
   ],
   "source": [
    "import importlib\n",
    "from collections import namedtuple\n",
    "\n",
    "import matplotlib.pyplot as plt\n",
    "import nltk\n",
    "import numpy as np\n",
    "import pandas as pd\n",
    "import seaborn as sns\n",
    "from sklearn.metrics import (\n",
    "    explained_variance_score,\n",
    "    mean_absolute_error,\n",
    "    mean_squared_error,\n",
    "    r2_score,\n",
    ")\n",
    "from tqdm import tqdm\n",
    "\n",
    "import cleaning\n",
    "import preprocessing\n",
    "\n",
    "for module in [cleaning, preprocessing]:\n",
    "    try:\n",
    "        importlib.reload(module)  # reload module\n",
    "    except NameError:\n",
    "        pass\n",
    "\n",
    "\n",
    "nltk.download(\"vader_lexicon\")\n",
    "\n",
    "plt.style.use(\"ggplot\")\n",
    "\n",
    "\n",
    "def return_regr_score(y_true, y_pred):\n",
    "    \"\"\"\n",
    "    Return regression scores.\n",
    "    \"\"\"\n",
    "    mse = mean_squared_error(y_true, y_pred)\n",
    "    mae = mean_absolute_error(y_true, y_pred)\n",
    "    rmse = np.sqrt(mse)\n",
    "    r2 = r2_score(y_true, y_pred)\n",
    "    evs = explained_variance_score(y_true, y_pred)\n",
    "\n",
    "    Scores = namedtuple(\"Scores\", [\"mse\", \"mae\", \"rmse\", \"r2\", \"evs\"])\n",
    "    return Scores(mse, mae, rmse, r2, evs)\n",
    "\n",
    "\n",
    "def normalize_pred(preds, min_target, max_target):\n",
    "    \"\"\"\n",
    "    Normalize predictions to the given range.\n",
    "    \"\"\"\n",
    "    min_pred = preds.min()\n",
    "    max_pred = preds.max()\n",
    "    range_pred = max_pred - min_pred\n",
    "    range_target = max_target - min_target\n",
    "\n",
    "    preds_normal = ((preds - min_pred) / range_pred * range_target) + min_target\n",
    "    return preds_normal"
   ]
  },
  {
   "cell_type": "markdown",
   "metadata": {},
   "source": [
    "# Load Data"
   ]
  },
  {
   "cell_type": "code",
   "execution_count": 2,
   "metadata": {},
   "outputs": [],
   "source": [
    "def load_data(subset):\n",
    "    if subset == \"train\":\n",
    "        path = \"input/ReviewsSmallTrain.csv\"\n",
    "    elif subset == \"test\":\n",
    "        path = \"input/ReviewsSmallTest.csv\"\n",
    "\n",
    "    df = pd.read_csv(path, usecols=[\"Text\", \"Summary\", \"Score\"])\n",
    "    df.columns = df.columns.str.lower()\n",
    "    return df"
   ]
  },
  {
   "cell_type": "code",
   "execution_count": 3,
   "metadata": {},
   "outputs": [
    {
     "name": "stdout",
     "output_type": "stream",
     "text": [
      "(10000, 3)\n"
     ]
    },
    {
     "data": {
      "text/html": [
       "<div>\n",
       "<style scoped>\n",
       "    .dataframe tbody tr th:only-of-type {\n",
       "        vertical-align: middle;\n",
       "    }\n",
       "\n",
       "    .dataframe tbody tr th {\n",
       "        vertical-align: top;\n",
       "    }\n",
       "\n",
       "    .dataframe thead th {\n",
       "        text-align: right;\n",
       "    }\n",
       "</style>\n",
       "<table border=\"1\" class=\"dataframe\">\n",
       "  <thead>\n",
       "    <tr style=\"text-align: right;\">\n",
       "      <th></th>\n",
       "      <th>score</th>\n",
       "      <th>summary</th>\n",
       "      <th>text</th>\n",
       "    </tr>\n",
       "  </thead>\n",
       "  <tbody>\n",
       "    <tr>\n",
       "      <th>0</th>\n",
       "      <td>4</td>\n",
       "      <td>My dog loves these but....</td>\n",
       "      <td>I am so convinced these are human animal crack...</td>\n",
       "    </tr>\n",
       "    <tr>\n",
       "      <th>1</th>\n",
       "      <td>5</td>\n",
       "      <td>She loves them...</td>\n",
       "      <td>I have a whole box of peanut butter dog cookie...</td>\n",
       "    </tr>\n",
       "    <tr>\n",
       "      <th>2</th>\n",
       "      <td>3</td>\n",
       "      <td>Not healthy but they taste good</td>\n",
       "      <td>These little animal crackers taste good &amp; my d...</td>\n",
       "    </tr>\n",
       "    <tr>\n",
       "      <th>3</th>\n",
       "      <td>5</td>\n",
       "      <td>My dog loves these!!!!</td>\n",
       "      <td>My chihuahua loves these lil snacks. When she ...</td>\n",
       "    </tr>\n",
       "    <tr>\n",
       "      <th>4</th>\n",
       "      <td>5</td>\n",
       "      <td>The Puppy Dogs Love Them!</td>\n",
       "      <td>I purchased these little treats as stocking st...</td>\n",
       "    </tr>\n",
       "  </tbody>\n",
       "</table>\n",
       "</div>"
      ],
      "text/plain": [
       "   score                          summary  \\\n",
       "0      4       My dog loves these but....   \n",
       "1      5                She loves them...   \n",
       "2      3  Not healthy but they taste good   \n",
       "3      5           My dog loves these!!!!   \n",
       "4      5        The Puppy Dogs Love Them!   \n",
       "\n",
       "                                                text  \n",
       "0  I am so convinced these are human animal crack...  \n",
       "1  I have a whole box of peanut butter dog cookie...  \n",
       "2  These little animal crackers taste good & my d...  \n",
       "3  My chihuahua loves these lil snacks. When she ...  \n",
       "4  I purchased these little treats as stocking st...  "
      ]
     },
     "execution_count": 3,
     "metadata": {},
     "output_type": "execute_result"
    }
   ],
   "source": [
    "df_train = load_data(\"train\")\n",
    "print(df_train.shape)\n",
    "df_train.head(5)"
   ]
  },
  {
   "cell_type": "code",
   "execution_count": 4,
   "metadata": {},
   "outputs": [
    {
     "name": "stdout",
     "output_type": "stream",
     "text": [
      "(1000, 3)\n"
     ]
    },
    {
     "data": {
      "text/html": [
       "<div>\n",
       "<style scoped>\n",
       "    .dataframe tbody tr th:only-of-type {\n",
       "        vertical-align: middle;\n",
       "    }\n",
       "\n",
       "    .dataframe tbody tr th {\n",
       "        vertical-align: top;\n",
       "    }\n",
       "\n",
       "    .dataframe thead th {\n",
       "        text-align: right;\n",
       "    }\n",
       "</style>\n",
       "<table border=\"1\" class=\"dataframe\">\n",
       "  <thead>\n",
       "    <tr style=\"text-align: right;\">\n",
       "      <th></th>\n",
       "      <th>score</th>\n",
       "      <th>summary</th>\n",
       "      <th>text</th>\n",
       "    </tr>\n",
       "  </thead>\n",
       "  <tbody>\n",
       "    <tr>\n",
       "      <th>0</th>\n",
       "      <td>5</td>\n",
       "      <td>Good Quality Dog Food</td>\n",
       "      <td>I have bought several of the Vitality canned d...</td>\n",
       "    </tr>\n",
       "    <tr>\n",
       "      <th>1</th>\n",
       "      <td>1</td>\n",
       "      <td>Not as Advertised</td>\n",
       "      <td>Product arrived labeled as Jumbo Salted Peanut...</td>\n",
       "    </tr>\n",
       "    <tr>\n",
       "      <th>2</th>\n",
       "      <td>4</td>\n",
       "      <td>\"Delight\" says it all</td>\n",
       "      <td>This is a confection that has been around a fe...</td>\n",
       "    </tr>\n",
       "    <tr>\n",
       "      <th>3</th>\n",
       "      <td>2</td>\n",
       "      <td>Cough Medicine</td>\n",
       "      <td>If you are looking for the secret ingredient i...</td>\n",
       "    </tr>\n",
       "    <tr>\n",
       "      <th>4</th>\n",
       "      <td>5</td>\n",
       "      <td>Great taffy</td>\n",
       "      <td>Great taffy at a great price.  There was a wid...</td>\n",
       "    </tr>\n",
       "  </tbody>\n",
       "</table>\n",
       "</div>"
      ],
      "text/plain": [
       "   score                summary  \\\n",
       "0      5  Good Quality Dog Food   \n",
       "1      1      Not as Advertised   \n",
       "2      4  \"Delight\" says it all   \n",
       "3      2         Cough Medicine   \n",
       "4      5            Great taffy   \n",
       "\n",
       "                                                text  \n",
       "0  I have bought several of the Vitality canned d...  \n",
       "1  Product arrived labeled as Jumbo Salted Peanut...  \n",
       "2  This is a confection that has been around a fe...  \n",
       "3  If you are looking for the secret ingredient i...  \n",
       "4  Great taffy at a great price.  There was a wid...  "
      ]
     },
     "execution_count": 4,
     "metadata": {},
     "output_type": "execute_result"
    }
   ],
   "source": [
    "df_test = load_data(\"test\")\n",
    "print(df_test.shape)\n",
    "df_test.head(5)"
   ]
  },
  {
   "cell_type": "code",
   "execution_count": 5,
   "metadata": {},
   "outputs": [
    {
     "data": {
      "text/plain": [
       "(array([1, 2, 3, 4, 5]), array([ 938,  600,  855, 1419, 6188]))"
      ]
     },
     "execution_count": 5,
     "metadata": {},
     "output_type": "execute_result"
    }
   ],
   "source": [
    "np.unique(df_train[\"score\"], return_counts=True)"
   ]
  },
  {
   "cell_type": "code",
   "execution_count": 6,
   "metadata": {},
   "outputs": [
    {
     "data": {
      "text/plain": [
       "(array([1, 2, 3, 4, 5]), array([ 98,  47,  75, 138, 642]))"
      ]
     },
     "execution_count": 6,
     "metadata": {},
     "output_type": "execute_result"
    }
   ],
   "source": [
    "np.unique(df_test[\"score\"], return_counts=True)"
   ]
  },
  {
   "cell_type": "code",
   "execution_count": 7,
   "metadata": {},
   "outputs": [
    {
     "name": "stdout",
     "output_type": "stream",
     "text": [
      "Score 1: The noodles in the box were all broken.  The sauce was over salted and did not have a good flavor.  I threw out most of the skillet.  I would recommend not purchasing this product.\n",
      "Score 2: Ive been craving some deer jerky for a while so i gave this one and some others on amazon a try. This one was very sinue and a little too sweet for my taste. Not going to buy again. Im still on my search for the salty dry version im after\n",
      "Score 3: These little animal crackers taste good & my doggies like them, but I won't be buying again. They are like the human animal crackers & have flour & sugar & other bad stuff for dogs. I will continue to buy the healthy treats for my doggies which they also love without sugar. You might want to try Wellness, Blue Buffalo, Natural Balance, Zukes, just to name a few.\n",
      "Score 4: I am so convinced these are human animal crackers. They look and taste EXACTLY like human ones (yes, I tasted it) and they contain sugar, which is not one of the last ingredients in the nutrition facts either. So ill just give my dog very small amounts.\n",
      "Score 5: I have a whole box of peanut butter dog cookies and she wont touch them. She loves these and begs for them so it was a good buy. She is a little chihuhua and they are not too big for her mouth. About 20 per box.\n"
     ]
    }
   ],
   "source": [
    "for score in sorted(df_train[\"score\"].unique()):\n",
    "    sample = df_train.loc[df_train[\"score\"] == score, \"text\"].iloc[0]\n",
    "    print(f\"Score {score}: {sample}\")"
   ]
  },
  {
   "cell_type": "markdown",
   "metadata": {},
   "source": [
    "# VADER"
   ]
  },
  {
   "cell_type": "code",
   "execution_count": 8,
   "metadata": {},
   "outputs": [
    {
     "name": "stdout",
     "output_type": "stream",
     "text": [
      "{'neg': 0.0, 'neu': 0.308, 'pos': 0.692, 'compound': 0.6696}\n",
      "{'neg': 0.0, 'neu': 1.0, 'pos': 0.0, 'compound': 0.0}\n",
      "{'neg': 0.647, 'neu': 0.353, 'pos': 0.0, 'compound': -0.5661}\n"
     ]
    }
   ],
   "source": [
    "from nltk.sentiment.vader import SentimentIntensityAnalyzer\n",
    "\n",
    "vader = SentimentIntensityAnalyzer()\n",
    "print(vader.polarity_scores(\"I love my wife!\"))\n",
    "print(vader.polarity_scores(\"Nothing in particular.\"))\n",
    "print(vader.polarity_scores(\"I don't love you!\"))"
   ]
  },
  {
   "cell_type": "code",
   "execution_count": 9,
   "metadata": {},
   "outputs": [],
   "source": [
    "vader_preds = np.zeros(df_test.shape[0])\n",
    "\n",
    "for i, text in enumerate(df_test[\"text\"].values):\n",
    "    vader_preds[i] = vader.polarity_scores(text).get(\"compound\")"
   ]
  },
  {
   "cell_type": "code",
   "execution_count": 10,
   "metadata": {},
   "outputs": [
    {
     "data": {
      "text/plain": [
       "(1.0, 5.0)"
      ]
     },
     "execution_count": 10,
     "metadata": {},
     "output_type": "execute_result"
    }
   ],
   "source": [
    "vader_preds_normal = normalize_pred(vader_preds, 1, 5)\n",
    "vader_preds_normal.min(), vader_preds_normal.max()"
   ]
  },
  {
   "cell_type": "code",
   "execution_count": 11,
   "metadata": {},
   "outputs": [
    {
     "data": {
      "text/plain": [
       "Scores(mse=1.312321207809819, mae=0.7465035252345931, rmse=1.1455658897723078, r2=0.2522211585513854, evs=0.25536666650896)"
      ]
     },
     "execution_count": 11,
     "metadata": {},
     "output_type": "execute_result"
    }
   ],
   "source": [
    "vader_clf_scores = return_regr_score(df_test[\"score\"].values, vader_preds_normal)\n",
    "vader_clf_scores"
   ]
  },
  {
   "cell_type": "code",
   "execution_count": 12,
   "metadata": {},
   "outputs": [
    {
     "name": "stdout",
     "output_type": "stream",
     "text": [
      "True Score/Vader = 1.000/1.199\n",
      "These chips are nasty.  I thought someone had spilled a drink in the bag, no the chips were just soaked with grease.  Nasty!!\n",
      "\n",
      "True Score/Vader = 2.000/2.973\n",
      "The individual Pocky sticks are not separately packaged and melt and stick together while being shipped.\n",
      "\n",
      "True Score/Vader = 3.000/4.949\n",
      "I liked getting this one for my twin 10-month olds because it has such interesting ingredients, particularly the zucchini and the garbanzo beans.  I like the fact that it's vegetarian yet I believe it has a complete protein since it also has brown rice.  This list of ingredients looks excellent and it's a green color naturally.<br /><br />The babies liked it.  They have liked everything that has carrots.<br /><br />I have the subscription for this one as I really like the ingredients and the fact that I'm giving the babies food that is naturally green.<br /><br />Ingredients per the label: Water, organic corn, organic zucchini, organic green beans, organic brown rice, organic carrots, organic garbanzo beans, organic canola oil.<br /><br />This has 70 calories, 8% protein, 40% vitamin A, 10% vitamin C, 2% calcium and 2% iron.  I've been informed that the percentage of daily needs met is based on an adult.\n",
      "\n",
      "True Score/Vader = 4.000/3.026\n",
      "\"Nantucket Blend coffee is one of my favorites.  I was suprised that it was a single box.  every time I ordered before it was a 2 pack.  My fault for not reading closer.  I will not order any more at this price for 1 (24 count)\n",
      "\n",
      "True Score/Vader = 5.000/4.677\n",
      "These are the most fantastic chips I've ever had!  I could eat the whole bag myself!  They're made with lots of whole grain and beans, and make a complete protein, so I have no qualms about feeding them to my kids as snacks.  They are great!  The only problem I have with them:  The bag is too small!!!  We need a bigger bag!! :)\n",
      "\n"
     ]
    }
   ],
   "source": [
    "for score in sorted(df_test[\"score\"].unique()):\n",
    "    sample_idx = df_test.loc[df_test[\"score\"] == score].sample(1).index.values[0]\n",
    "    text = df_test.loc[sample_idx, \"text\"]\n",
    "    true_score = df_test.loc[sample_idx, \"score\"]\n",
    "    vader_score = vader_preds_normal[sample_idx]\n",
    "    print(f\"True Score/Vader = {true_score:.3f}/{vader_score:.3f}\")\n",
    "    print(f\"{text}\")\n",
    "    print()"
   ]
  },
  {
   "cell_type": "markdown",
   "metadata": {},
   "source": [
    "# Classic ML Model Trained from Scratch"
   ]
  },
  {
   "cell_type": "code",
   "execution_count": 13,
   "metadata": {},
   "outputs": [
    {
     "name": "stderr",
     "output_type": "stream",
     "text": [
      "/home/anj/Documents/project/sentiment analysis - amazon fine food reviews/cleaning.py:11: MarkupResemblesLocatorWarning: The input looks more like a filename than markup. You may want to open this file and pass the filehandle into Beautiful Soup.\n",
      "  soup = BeautifulSoup(text, \"html.parser\")\n"
     ]
    }
   ],
   "source": [
    "from sklearn.linear_model import LogisticRegression\n",
    "\n",
    "x_train = [cleaning.clean(text) for text in df_train[\"text\"]]\n",
    "x_test = [cleaning.clean(text) for text in df_test[\"text\"]]\n",
    "y_train = df_train[\"score\"].values\n",
    "y_test = df_test[\"score\"].values"
   ]
  },
  {
   "cell_type": "code",
   "execution_count": 14,
   "metadata": {},
   "outputs": [
    {
     "name": "stdout",
     "output_type": "stream",
     "text": [
      "Before: I am so convinced these are human animal crackers. They look and taste EXACTLY like human ones (yes, I tasted it) and they contain sugar, which is not one of the last ingredients in the nutrition facts either. So ill just give my dog very small amounts.\n",
      "After: i am so convinced these are human animal crackers they look and taste exactly like human ones yes i tasted it and they contain sugar which is not one of the last ingredients in the nutrition facts either so ill just give my dog very small amounts\n",
      "\n",
      "Before: I have a whole box of peanut butter dog cookies and she wont touch them. She loves these and begs for them so it was a good buy. She is a little chihuhua and they are not too big for her mouth. About 20 per box.\n",
      "After: i have a whole box of peanut butter dog cookies and she wont touch them she loves these and begs for them so it was a good buy she is a little chihuhua and they are not too big for her mouth about 20 per box\n",
      "\n",
      "Before: These little animal crackers taste good & my doggies like them, but I won't be buying again. They are like the human animal crackers & have flour & sugar & other bad stuff for dogs. I will continue to buy the healthy treats for my doggies which they also love without sugar. You might want to try Wellness, Blue Buffalo, Natural Balance, Zukes, just to name a few.\n",
      "After: these little animal crackers taste good my doggies like them but i will not be buying again they are like the human animal crackers have flour sugar other bad stuff for dogs i will continue to buy the healthy treats for my doggies which they also love without sugar you might want to try wellness blue buffalo natural balance zukes just to name a few\n",
      "\n",
      "Before: My chihuahua loves these lil snacks. When she sees me bring out the yellow bus she literally runs in circles!\n",
      "After: my chihuahua loves these lil snacks when she sees me bring out the yellow bus she literally runs in circles\n",
      "\n",
      "Before: I purchased these little treats as stocking stuffers for our little furry friends.  Both Yorkies LOVED these treats.  We had to finally buy more since they liked them so much.\n",
      "After: i purchased these little treats as stocking stuffers for our little furry friends both yorkies loved these treats we had to finally buy more since they liked them so much\n",
      "\n"
     ]
    }
   ],
   "source": [
    "for i in range(5):\n",
    "    print(f\"Before: {df_train.iloc[i][\"text\"]}\")\n",
    "    print(f\"After: {x_train[i]}\")\n",
    "    print()"
   ]
  },
  {
   "cell_type": "code",
   "execution_count": 15,
   "metadata": {},
   "outputs": [],
   "source": [
    "x_train_preprocessed = [preprocessing.preprocess(text) for text in x_train]\n",
    "x_test_preprocessed = [preprocessing.preprocess(text) for text in x_test]"
   ]
  },
  {
   "cell_type": "code",
   "execution_count": 16,
   "metadata": {},
   "outputs": [
    {
     "name": "stdout",
     "output_type": "stream",
     "text": [
      "Before: i am so convinced these are human animal crackers they look and taste exactly like human ones yes i tasted it and they contain sugar which is not one of the last ingredients in the nutrition facts either so ill just give my dog very small amounts\n",
      "After: ['convinced', 'human', 'animal', 'cracker', 'look', 'taste', 'exactly', 'like', 'human', 'one', 'yes', 'tasted', 'contain', 'sugar', 'one', 'last', 'ingredient', 'nutrition', 'fact', 'either', 'ill', 'give', 'dog', 'small', 'amount']\n",
      "\n",
      "Before: i have a whole box of peanut butter dog cookies and she wont touch them she loves these and begs for them so it was a good buy she is a little chihuhua and they are not too big for her mouth about 20 per box\n",
      "After: ['whole', 'box', 'peanut', 'butter', 'dog', 'cooky', 'wont', 'touch', 'love', 'begs', 'good', 'buy', 'little', 'chihuhua', 'big', 'mouth', 'per', 'box']\n",
      "\n",
      "Before: these little animal crackers taste good my doggies like them but i will not be buying again they are like the human animal crackers have flour sugar other bad stuff for dogs i will continue to buy the healthy treats for my doggies which they also love without sugar you might want to try wellness blue buffalo natural balance zukes just to name a few\n",
      "After: ['little', 'animal', 'cracker', 'taste', 'good', 'doggy', 'like', 'buying', 'like', 'human', 'animal', 'cracker', 'flour', 'sugar', 'bad', 'stuff', 'dog', 'continue', 'buy', 'healthy', 'treat', 'doggy', 'also', 'love', 'without', 'sugar', 'might', 'want', 'try', 'wellness', 'blue', 'buffalo', 'natural', 'balance', 'zukes', 'name']\n",
      "\n",
      "Before: my chihuahua loves these lil snacks when she sees me bring out the yellow bus she literally runs in circles\n",
      "After: ['chihuahua', 'love', 'lil', 'snack', 'see', 'bring', 'yellow', 'bus', 'literally', 'run', 'circle']\n",
      "\n",
      "Before: i purchased these little treats as stocking stuffers for our little furry friends both yorkies loved these treats we had to finally buy more since they liked them so much\n",
      "After: ['purchased', 'little', 'treat', 'stocking', 'stuffer', 'little', 'furry', 'friend', 'yorkies', 'loved', 'treat', 'finally', 'buy', 'since', 'liked', 'much']\n",
      "\n"
     ]
    }
   ],
   "source": [
    "for i in range(5):\n",
    "    print(f\"Before: {x_train[i]}\")\n",
    "    print(f\"After: {x_train_preprocessed[i]}\")\n",
    "    print()"
   ]
  },
  {
   "cell_type": "code",
   "execution_count": 17,
   "metadata": {},
   "outputs": [],
   "source": [
    "import gensim\n",
    "\n",
    "x_train_tagged = []\n",
    "for i in range(len(x_train_preprocessed)):\n",
    "    tagged_doc = gensim.models.doc2vec.TaggedDocument(x_train_preprocessed[i], [i])\n",
    "    x_train_tagged.append(tagged_doc)"
   ]
  },
  {
   "cell_type": "code",
   "execution_count": 18,
   "metadata": {},
   "outputs": [
    {
     "data": {
      "text/plain": [
       "[TaggedDocument(words=['convinced', 'human', 'animal', 'cracker', 'look', 'taste', 'exactly', 'like', 'human', 'one', 'yes', 'tasted', 'contain', 'sugar', 'one', 'last', 'ingredient', 'nutrition', 'fact', 'either', 'ill', 'give', 'dog', 'small', 'amount'], tags=[0]),\n",
       " TaggedDocument(words=['whole', 'box', 'peanut', 'butter', 'dog', 'cooky', 'wont', 'touch', 'love', 'begs', 'good', 'buy', 'little', 'chihuhua', 'big', 'mouth', 'per', 'box'], tags=[1]),\n",
       " TaggedDocument(words=['little', 'animal', 'cracker', 'taste', 'good', 'doggy', 'like', 'buying', 'like', 'human', 'animal', 'cracker', 'flour', 'sugar', 'bad', 'stuff', 'dog', 'continue', 'buy', 'healthy', 'treat', 'doggy', 'also', 'love', 'without', 'sugar', 'might', 'want', 'try', 'wellness', 'blue', 'buffalo', 'natural', 'balance', 'zukes', 'name'], tags=[2])]"
      ]
     },
     "execution_count": 18,
     "metadata": {},
     "output_type": "execute_result"
    }
   ],
   "source": [
    "x_train_tagged[:3]"
   ]
  },
  {
   "cell_type": "code",
   "execution_count": 19,
   "metadata": {},
   "outputs": [],
   "source": [
    "doc2vec_model = gensim.models.doc2vec.Doc2Vec(vector_size=50, min_count=2, epochs=100)\n",
    "doc2vec_model.build_vocab(x_train_tagged)"
   ]
  },
  {
   "cell_type": "code",
   "execution_count": 20,
   "metadata": {},
   "outputs": [
    {
     "name": "stdout",
     "output_type": "stream",
     "text": [
      "Word 'human' appeared 46 times in the training corpus.\n"
     ]
    }
   ],
   "source": [
    "print(\n",
    "    f\"Word 'human' appeared {doc2vec_model.wv.get_vecattr('human', 'count')} times in the training corpus.\"\n",
    ")"
   ]
  },
  {
   "cell_type": "code",
   "execution_count": 21,
   "metadata": {},
   "outputs": [
    {
     "data": {
      "text/plain": [
       "True"
      ]
     },
     "execution_count": 21,
     "metadata": {},
     "output_type": "execute_result"
    }
   ],
   "source": [
    "doc2vec_model.corpus_count == len(x_train)"
   ]
  },
  {
   "cell_type": "code",
   "execution_count": 22,
   "metadata": {},
   "outputs": [],
   "source": [
    "doc2vec_model.train(x_train_tagged, total_examples=doc2vec_model.corpus_count, epochs=doc2vec_model.epochs)"
   ]
  },
  {
   "cell_type": "code",
   "execution_count": 23,
   "metadata": {},
   "outputs": [
    {
     "name": "stdout",
     "output_type": "stream",
     "text": [
      "[[0.44460624]]\n",
      "[[0.1262174]]\n"
     ]
    }
   ],
   "source": [
    "from sklearn.metrics.pairwise import cosine_similarity\n",
    "\n",
    "sample_1 = x_train_tagged[2]\n",
    "sample_2 = x_train_tagged[5]\n",
    "sample_3 = [\"vanquish\", \"that\", \"which\", \"kill\", \"you\"]\n",
    "\n",
    "vector_1 = doc2vec_model.infer_vector(sample_1.words)\n",
    "vector_2 = doc2vec_model.infer_vector(sample_2.words)\n",
    "vector_3 = doc2vec_model.infer_vector(sample_3)\n",
    "\n",
    "print(cosine_similarity(vector_1.reshape(1, -1), vector_2.reshape(1, -1)))\n",
    "print(cosine_similarity(vector_1.reshape(1, -1), vector_3.reshape(1, -1)))"
   ]
  },
  {
   "cell_type": "code",
   "execution_count": 24,
   "metadata": {},
   "outputs": [],
   "source": [
    "ranks = []\n",
    "for doc_id in range(len(x_train_tagged)):\n",
    "    # Infer the vector of training doc\n",
    "    inferred_vector = doc2vec_model.infer_vector(x_train_tagged[doc_id].words)  \n",
    "    # Get the most similar document to training doc from training doc itself\n",
    "    # Ideally all doc should be most similar to itself\n",
    "    # This is for sanity check\n",
    "    sims = doc2vec_model.dv.most_similar([inferred_vector], topn=len(doc2vec_model.dv))\n",
    "    rank = [docid for docid, sim in sims].index(doc_id)\n",
    "    ranks.append(rank)"
   ]
  },
  {
   "cell_type": "code",
   "execution_count": 25,
   "metadata": {},
   "outputs": [
    {
     "name": "stdout",
     "output_type": "stream",
     "text": [
      "Counter({0: 9496, 1: 497, 3: 2, 5: 2, 4: 2, 2: 1})\n"
     ]
    }
   ],
   "source": [
    "import collections\n",
    "\n",
    "counter = collections.Counter(ranks)\n",
    "print(counter)"
   ]
  },
  {
   "cell_type": "code",
   "execution_count": 26,
   "metadata": {},
   "outputs": [],
   "source": [
    "x_train_doc2vec = np.array([doc2vec_model.infer_vector(doc) for doc in x_train_preprocessed])\n",
    "x_test_doc2vec = np.array([doc2vec_model.infer_vector(doc) for doc in x_test_preprocessed])"
   ]
  },
  {
   "cell_type": "code",
   "execution_count": 27,
   "metadata": {},
   "outputs": [
    {
     "data": {
      "text/plain": [
       "((10000, 50), (1000, 50))"
      ]
     },
     "execution_count": 27,
     "metadata": {},
     "output_type": "execute_result"
    }
   ],
   "source": [
    "x_train_doc2vec.shape, x_test_doc2vec.shape"
   ]
  },
  {
   "cell_type": "code",
   "execution_count": 28,
   "metadata": {},
   "outputs": [
    {
     "data": {
      "text/plain": [
       "Scores(mse=1.931, mae=0.703, rmse=1.3896042602122376, r2=-0.10031060554691029, evs=-0.07146377778626145)"
      ]
     },
     "execution_count": 28,
     "metadata": {},
     "output_type": "execute_result"
    }
   ],
   "source": [
    "model = LogisticRegression(random_state=8, max_iter=1_000)\n",
    "model.fit(x_train_doc2vec, y_train)\n",
    "logreg_preds = model.predict(x_test_doc2vec)\n",
    "\n",
    "logreg_clf_scores = return_regr_score(y_test, logreg_preds)\n",
    "logreg_clf_scores"
   ]
  },
  {
   "cell_type": "code",
   "execution_count": 29,
   "metadata": {},
   "outputs": [
    {
     "name": "stdout",
     "output_type": "stream",
     "text": [
      "True Score/Vader/Logreg = 1.000/4.826/1.000\n",
      "Wow, i am shocked to find clear plastic pieces in the jars. The other posters say they notified Earth's Best about this in August and they are still selling it without checking or recalling!! No more earth's best for my little guy. I am taking my business elsewhere and I am very sad that organic company is selling baby food with plastic and bpa in their jars. They gotta do better than this to get my business.\n",
      "\n",
      "True Score/Vader/Logreg = 2.000/4.680/5.000\n",
      "I can't eat these oats, they have a funny taste to them.  My kids also think they taste funny.  My husband thinks they are OK, so he has 50 pounds of oats to eat on his own!\n",
      "\n",
      "True Score/Vader/Logreg = 3.000/4.868/5.000\n",
      "OK,I did read the reviews which ranged from splendid to awful. I took the plunge as I do like salty, and tangy flavors. No, I had never had these before I took the leap and ordered a case at a super price. They arrived quickly and in great shape with the sell by date  FEB 2011. Umm, I'm in the middle on these chips, they are OK but not something I can't live without. I love the crunch, the color, NO TRANS FAT. They are a little too vinegary for my taste, which is a lot coming from a kid that grew up eating pickled hard-boiled eggs and pickled pigs feet.<br /><br />I haven't tried them with a deli sandwich and a cold mug of beer which might improve the experience :)\n",
      "\n",
      "True Score/Vader/Logreg = 4.000/3.867/4.000\n",
      "Good quality nectar.  Very tasty.<br /><br />However, I was expecting 46 fluid ounces, not 46 ounces in weight.<br /><br />I find that 46 ounces in weight makes about 32 fluid ounces.\n",
      "\n",
      "True Score/Vader/Logreg = 5.000/4.953/5.000\n",
      "I am so glad I was introduced the this brand of sweetner to replace sugar, this is so much better. I really like how it sweetens my herbal sweet teas without having to use too much, and how it can be used in place of pancake syrup too. Learning how to use it what the first thing I had to learn, once I learned how to use it, I became hooked. I would not even look at sugar any more. I highly reccomend if you want a clean fresh taste and feel to your foods.If you do purchase this sweetner, take advantage of ship and save, it will save you lots of money in the long run.\n",
      "\n"
     ]
    }
   ],
   "source": [
    "for score in sorted(df_test[\"score\"].unique()):\n",
    "    sample_idx = df_test.loc[df_test[\"score\"] == score].sample(1).index.values[0]\n",
    "    text = df_test.loc[sample_idx, \"text\"]\n",
    "    true_score = df_test.loc[sample_idx, \"score\"]\n",
    "    vader_score = vader_preds_normal[sample_idx]\n",
    "    logreg_score = logreg_preds[sample_idx]\n",
    "    print(f\"True Score/Vader/Logreg = {true_score:.3f}/{vader_score:.3f}/{logreg_score:.3f}\")\n",
    "    print(f\"{text}\")\n",
    "    print()"
   ]
  },
  {
   "cell_type": "markdown",
   "metadata": {},
   "source": [
    "# Roberta Pretarined Model"
   ]
  },
  {
   "cell_type": "code",
   "execution_count": 30,
   "metadata": {},
   "outputs": [
    {
     "name": "stderr",
     "output_type": "stream",
     "text": [
      "Some weights of the model checkpoint at cardiffnlp/twitter-roberta-base-sentiment-latest were not used when initializing RobertaForSequenceClassification: ['roberta.pooler.dense.bias', 'roberta.pooler.dense.weight']\n",
      "- This IS expected if you are initializing RobertaForSequenceClassification from the checkpoint of a model trained on another task or with another architecture (e.g. initializing a BertForSequenceClassification model from a BertForPreTraining model).\n",
      "- This IS NOT expected if you are initializing RobertaForSequenceClassification from the checkpoint of a model that you expect to be exactly identical (initializing a BertForSequenceClassification model from a BertForSequenceClassification model).\n"
     ]
    }
   ],
   "source": [
    "from transformers import AutoTokenizer\n",
    "from transformers import AutoModelForSequenceClassification\n",
    "from scipy.special import softmax\n",
    "\n",
    "\n",
    "def combine_roberta_scores(scores):\n",
    "    negative, neutral, positive = scores\n",
    "    if positive > neutral and positive > negative:\n",
    "        return positive  # Strong positive sentiment\n",
    "    elif negative > positive and negative > neutral:\n",
    "        return -negative  # Strong negative sentiment\n",
    "    else:\n",
    "        return neutral  # Neutral sentiment\n",
    "\n",
    "\n",
    "MODEL = f\"cardiffnlp/twitter-roberta-base-sentiment-latest\"\n",
    "tokenizer = AutoTokenizer.from_pretrained(MODEL)\n",
    "roberta_model = AutoModelForSequenceClassification.from_pretrained(MODEL)"
   ]
  },
  {
   "cell_type": "code",
   "execution_count": 31,
   "metadata": {},
   "outputs": [
    {
     "data": {
      "text/plain": [
       "0.83730406"
      ]
     },
     "execution_count": 31,
     "metadata": {},
     "output_type": "execute_result"
    }
   ],
   "source": [
    "sample = \"If it were possible to give this product zero stars, I would have done so.  I am a huge fan of Twinings teas, and was very excited to try this new blend.  After arriving home from the grocery, I immediately started the kettle to enjoy a cup while prepping dinner.  Between sorting, washing, and chopping items, the hot water was added to the bag to steep.  Preparation continued, until a distinctly off odor hit me.  I thought one of my ingredients must be rancid!  I hunted around for almost four minutes before I realized it was the tea.  Even after cleaning up, and airing out the kitchen, my roommate later came in and asked about the smell.  Save your money to purchase ANY other Twinings product.\"\n",
    "\n",
    "endoded_sample = tokenizer(sample, return_tensors=\"pt\")\n",
    "output = roberta_model(**endoded_sample)\n",
    "scores = output[0][0].detach().numpy()\n",
    "scores = softmax(scores)\n",
    "scores = combine_roberta_scores(scores)\n",
    "scores"
   ]
  },
  {
   "cell_type": "code",
   "execution_count": 32,
   "metadata": {},
   "outputs": [
    {
     "name": "stderr",
     "output_type": "stream",
     "text": [
      "Processing: 100%|██████████| 1000/1000 [02:00<00:00,  8.33it/s]\n"
     ]
    }
   ],
   "source": [
    "roberta_preds = np.zeros(df_test.shape[0])\n",
    "\n",
    "for i, text in tqdm(enumerate(df_test[\"text\"].values), total=len(df_test), desc=\"Processing\"):\n",
    "    try:\n",
    "        endoded_text = tokenizer(text, return_tensors=\"pt\")\n",
    "        output = roberta_model(**endoded_text)\n",
    "        scores = output[0][0].detach().numpy()\n",
    "        scores = softmax(scores)\n",
    "        score = combine_roberta_scores(scores)\n",
    "    except RuntimeError:\n",
    "        score = 0\n",
    "    roberta_preds[i] = score"
   ]
  },
  {
   "cell_type": "code",
   "execution_count": 33,
   "metadata": {},
   "outputs": [
    {
     "data": {
      "text/plain": [
       "(1.0, 5.0)"
      ]
     },
     "execution_count": 33,
     "metadata": {},
     "output_type": "execute_result"
    }
   ],
   "source": [
    "roberta_preds_normal = normalize_pred(roberta_preds, 1, 5)\n",
    "roberta_preds_normal.min(), roberta_preds_normal.max()"
   ]
  },
  {
   "cell_type": "code",
   "execution_count": 34,
   "metadata": {},
   "outputs": [
    {
     "data": {
      "text/plain": [
       "Scores(mse=0.7827122513520923, mae=0.5085055407485638, rmse=0.8847102640707252, r2=0.5539996938093183, evs=0.5552486866284492)"
      ]
     },
     "execution_count": 34,
     "metadata": {},
     "output_type": "execute_result"
    }
   ],
   "source": [
    "roberta_clf_scores = return_regr_score(df_test[\"score\"].values, roberta_preds_normal)\n",
    "roberta_clf_scores"
   ]
  },
  {
   "cell_type": "code",
   "execution_count": 35,
   "metadata": {},
   "outputs": [
    {
     "name": "stdout",
     "output_type": "stream",
     "text": [
      "True Score/Vader/Logreg/Roberta = 1.000/1.941/1.000/1.293\n",
      "I bought this brand as a trial since I am tired of the Pingos.<br /><br />It claims that it is natural. I have no argument on this. But the point is that more than 50% in the bag is over-fried and in brown color. I really suffer eating the over-fried chips. I open some other bags and it looks like the same. So I just throw away all of them. I don't know if I was with bad luck or every bag they are selling is the same. But for sure I will never buy this brand any more.\n",
      "\n",
      "True Score/Vader/Logreg/Roberta = 2.000/2.218/5.000/1.124\n",
      "I really love Kettle brand chips, but these are rather disappointing. There is very little sour cream or onion flavor.\n",
      "\n",
      "True Score/Vader/Logreg/Roberta = 3.000/4.833/5.000/1.353\n",
      "Yes, they are good. However, they are absolutely inundated with the flavoring stuff, which is initially satisfying then becomes \"too much\". And certainly isn't good for the waistline or general nutritional issues.<br /><br />AND the package can't be opened without a sharp implement. I couldn't pull it apart at the top as I am used to doing. I don't normally carry a knife or scissors and don't have rodent teeth. Well, I was hungry and was able to rip the bag using my car key. Even then, the bag was *wow* thick and tough.<br /><br />On the package it says these are \"Krinkle Cut\" chips. Turns out that means the corrugated kind, not what I wanted. I don't eat ripple/ridged style chips any more because they take the skin off the roof of my mouth. So this information is important.<br /><br />These are good but so are other brands with which I don't have these problems.\n",
      "\n",
      "True Score/Vader/Logreg/Roberta = 4.000/4.527/5.000/4.704\n",
      "For whatever reason, our son really likes this flavor. I'm not a fan myself, but I'm not the one eating it. Any time I can get a variety of vegetables into my baby in one sitting, I'm a happy mom.\n",
      "\n",
      "True Score/Vader/Logreg/Roberta = 5.000/4.525/5.000/4.891\n",
      "Works with chicken fish beef or pork. Fast easy and makes it taste excellent. Plus buying in bulk is more than 50% off from box stores\n",
      "\n"
     ]
    }
   ],
   "source": [
    "for score in sorted(df_test[\"score\"].unique()):\n",
    "    sample_idx = df_test.loc[df_test[\"score\"] == score].sample(1).index.values[0]\n",
    "    text = df_test.loc[sample_idx, \"text\"]\n",
    "    true_score = df_test.loc[sample_idx, \"score\"]\n",
    "    vader_score = vader_preds_normal[sample_idx]\n",
    "    logreg_score = logreg_preds[sample_idx]\n",
    "    roberta_score = roberta_preds_normal[sample_idx]\n",
    "    print(\n",
    "        f\"True Score/Vader/Logreg/Roberta = {true_score:.3f}/{vader_score:.3f}/{logreg_score:.3f}/{roberta_score:.3f}\"\n",
    "    )\n",
    "    print(f\"{text}\")\n",
    "    print()"
   ]
  },
  {
   "cell_type": "markdown",
   "metadata": {},
   "source": [
    "# Compare Scores"
   ]
  },
  {
   "cell_type": "code",
   "execution_count": 36,
   "metadata": {},
   "outputs": [
    {
     "data": {
      "text/plain": [
       "(Scores(mse=1.312321207809819, mae=0.7465035252345931, rmse=1.1455658897723078, r2=0.2522211585513854, evs=0.25536666650896),\n",
       " Scores(mse=1.931, mae=0.703, rmse=1.3896042602122376, r2=-0.10031060554691029, evs=-0.07146377778626145),\n",
       " Scores(mse=0.7827122513520923, mae=0.5085055407485638, rmse=0.8847102640707252, r2=0.5539996938093183, evs=0.5552486866284492))"
      ]
     },
     "execution_count": 36,
     "metadata": {},
     "output_type": "execute_result"
    }
   ],
   "source": [
    "vader_clf_scores, logreg_clf_scores, roberta_clf_scores"
   ]
  },
  {
   "cell_type": "code",
   "execution_count": 37,
   "metadata": {},
   "outputs": [
    {
     "data": {
      "text/html": [
       "<div>\n",
       "<style scoped>\n",
       "    .dataframe tbody tr th:only-of-type {\n",
       "        vertical-align: middle;\n",
       "    }\n",
       "\n",
       "    .dataframe tbody tr th {\n",
       "        vertical-align: top;\n",
       "    }\n",
       "\n",
       "    .dataframe thead th {\n",
       "        text-align: right;\n",
       "    }\n",
       "</style>\n",
       "<table border=\"1\" class=\"dataframe\">\n",
       "  <thead>\n",
       "    <tr style=\"text-align: right;\">\n",
       "      <th></th>\n",
       "      <th>vader</th>\n",
       "      <th>logreg</th>\n",
       "      <th>roberta</th>\n",
       "    </tr>\n",
       "  </thead>\n",
       "  <tbody>\n",
       "    <tr>\n",
       "      <th>mse</th>\n",
       "      <td>1.312321</td>\n",
       "      <td>1.931000</td>\n",
       "      <td>0.782712</td>\n",
       "    </tr>\n",
       "    <tr>\n",
       "      <th>mae</th>\n",
       "      <td>0.746504</td>\n",
       "      <td>0.703000</td>\n",
       "      <td>0.508506</td>\n",
       "    </tr>\n",
       "    <tr>\n",
       "      <th>rmse</th>\n",
       "      <td>1.145566</td>\n",
       "      <td>1.389604</td>\n",
       "      <td>0.884710</td>\n",
       "    </tr>\n",
       "    <tr>\n",
       "      <th>r2</th>\n",
       "      <td>0.252221</td>\n",
       "      <td>-0.100311</td>\n",
       "      <td>0.554000</td>\n",
       "    </tr>\n",
       "    <tr>\n",
       "      <th>evs</th>\n",
       "      <td>0.255367</td>\n",
       "      <td>-0.071464</td>\n",
       "      <td>0.555249</td>\n",
       "    </tr>\n",
       "  </tbody>\n",
       "</table>\n",
       "</div>"
      ],
      "text/plain": [
       "         vader    logreg   roberta\n",
       "mse   1.312321  1.931000  0.782712\n",
       "mae   0.746504  0.703000  0.508506\n",
       "rmse  1.145566  1.389604  0.884710\n",
       "r2    0.252221 -0.100311  0.554000\n",
       "evs   0.255367 -0.071464  0.555249"
      ]
     },
     "execution_count": 37,
     "metadata": {},
     "output_type": "execute_result"
    }
   ],
   "source": [
    "pd.DataFrame(\n",
    "    [vader_clf_scores, logreg_clf_scores, roberta_clf_scores], index=[\"vader\", \"logreg\", \"roberta\"]\n",
    ").transpose()"
   ]
  },
  {
   "cell_type": "markdown",
   "metadata": {},
   "source": [
    "# Review: Where Models are \"Wrong\" the Most"
   ]
  },
  {
   "cell_type": "code",
   "execution_count": 38,
   "metadata": {},
   "outputs": [
    {
     "name": "stdout",
     "output_type": "stream",
     "text": [
      "Correct score vs vader score =  1.000 vs  4.845\n",
      "My daughter had extensive food allergies as an infant/toddler and we bought these bars consistently.  She still has the nut and egg allergy so I like that I can trust the manufacturer and know the food is safe.  Unfortnately the last few times we have purchased the bars (all varieties) they have been hard as a rock and my daughter won't eat them.  I have tried them myself and thought I might break a tooth. I had them on subscribe and save; which I have now cancelled and have several boxes which no one in my family will eat.  I agree with a previous post. I want to love these bars and I love everything the company stands for (and actually really like their cookies), but something has changed with these bars and they are just not even appetizing.  I hope they address the issue and I will certainly try them again if they do something to enhance the taste and address the issue with the texture. A total bummer -  they were better in the past but something changed with the taste, along with their new packaging!!\n",
      "\n",
      "Correct score vs vader score =  1.000 vs  4.851\n",
      "I opened the can and immediately became concerned when I saw what looked like dried white crust, rather than fluffy frosting.  The package recommended stirring before use, so I gave that a try and under the crust was an indescribable gelatinous goo.  The best I can equate it to is a white version of the blue goop the mother serves for dinner in \"Better of Dead\" (no raisins in it though!).<br />I tried to stir it together and the end result was gelatinous goo with white crusties in it.  When lifting the knife to spread it long strings on goo trailed from my knife.<br />I opted for making my own frosting instead - very easy!  A little Sprectrum palm shortening, a lot of powdered sugar, a tiny splash of vanilla, a tiny bit of salt, and rice milk as needed for consistency, beat for 5 minutes, and I had the fluffy 'butter' cream frosting I thought I'd get from Cherrybrook.<br /><br />I wonder if our can was overheated in the store (whole foods) or something...<br />I've read positive reviews of their frosting mix, so maybe I'll try that next time.\n",
      "\n",
      "Correct score vs vader score =  1.000 vs  4.934\n",
      "Buyer Beware Please! This sweetener is not for everybody.  Maltitol is an alcohol sugar and can be undigestible in the body.  You will know a short time after consuming it if you are one of the unsuspecting many who cannot digest it by the extreme intestinal bloating and cramping and massive amounts of gas a person can experience. Nausea, diarrhea & headaches can also be experienced. I learned my lesson the hard way years ago when I fell in love with the sugar-free chocolates suzanne sommers used to sell.  I thought I'd found sugar-free chocolate nirvana at first taste but the bliss was short lived when the terrible side effects of maltitol kicked in.  The discomfort was unlike anything I had ever felt before.  I blew up like a balloon and had very painful abdominal cramping.  As the symptoms passed, this too was very unpleasant.  Though hard for me to believe a low calorie sweetener could be the culprit, all symptoms were gone when I stopped eating the chocolate. My hunch it had something to do with the maltitol were unfortunately confirmed for me about a year later when I purchased some delicious sugar-free popcorn at my local market.  The taste was amazing and while I was looking at the label wondering what could possibly make this yummy, new sugarfree treat taste so good, my heart sank when I followed the little asterisk next to sugarfree sweetener* down to the very bottom of the label and read \"maltitol\" in tiny little letters! Thank goodness I'd eaten only a little. I still ended up with all the same side-effects but for a much shorter duration. Some people can use maltitol to their heart's content but others, like me, can have a bad reaction to it. In case you're like me, ... it's not you ...it's the maltitol!\n",
      "\n",
      "Correct score vs vader score =  1.000 vs  4.968\n",
      "and THAT is  the problem. I order these by the case of 12 - and when they are good, which is over half the time they are the BEST kettle chip, THE BEST! and then I get a case of the worse - the potatos are mealy and old so I just throw them out and order again, expensive BUT when they are made with good fresh potatos they are the best - the last case is what prompted me to write this - the potatos were weird - like they were almost sour as in going bad - and I even wrote the company that makes them - SO if you want the BEST kettle chip there is try these and if the ones you get are NOT the best try again!<br />I, myself am done ordering because it is creeping me out that they are using soured potatos and either not noticing or not caring.\n",
      "\n",
      "Correct score vs vader score =  1.000 vs  4.995\n",
      "I once loved these chips and they were the only chips i would buy.  I discovered them when I was in England back in 2000 and quickly became a fan.  About a year ago I picked up a bag that was on sale at my local supermarket.  I was finding it odd that they were on sale so much but took advantage of it.  After opening the bag I found the chips were not even close to the Kettle chips I was used to.  They were all uniform whitish yellow in color, flavor was way off, the lovely extra crisp brown chips were gone completely and I was very disappointed.  So I e-mailed Kettle with the following:  \"What Happened? I bought this bag of chips the other day and they have a very different taste; It tastes \"cheaper\". I don't know how else to put it... I also noticed that the chips seemed to be less cooked as I did not see any of the browner colored chips that have the most flavor. I am hoping that nothing has changed with the ingredients or process used to produce this product. Did I just get a weird batch? I have been buying only Kettle Chips for about 10 years now so I am wondering.\"  I did receive a reply: \"Thanks for letting us know about your experience with your Kettle Brand® Chips. It sounds like you may have received a bag that should not have slipped by our inspections, and we apologize.Our potatoes do vary seasonally which could account for a variation in color-but our chips should still taste great!Thanks for providing us with the \"best before\" code from the bag.  This really helps when passing on your comments to our staff.<br />We are sending some coupons to replace your purchase with any of our Kettle Brand® flavors or nut butters, believing you will have a great experience with your next purchase! In case you buy this product again, we suggest avoiding the same best before date (if you still have it) in the rare instance another bag from the same case slipped by our inspections at the same time.<br />Thanks again for letting us know about this and expect the coupons to arrive within 3 weeks.  Please let me know if I can be of any more help.\"  Well the next bag was good.  Since that time I have picked up 3 bags of chips all were like the \"bad\" bag so I am pretty sure that they have changed there product to reduce cost.  I did some research and found out that Kettle was bought out by a private equity company.  So the same cookie cutter management processes are probably being employed at Kettle.  Acquire company with high quality brand recognition, sell product to mass merchants, lower quality/cost of product to increase margin and finally sell company just before the customer base starts to realize that the brand is no longer a quality brand.  increased profits make the company more valuable on paper so they make a nice profit for the investors. Customer and employees lose out of course as does an unsuspecting buyer of the exploited brand.  Stay away from Kettle chips they are no longer the same...\n",
      "\n"
     ]
    }
   ],
   "source": [
    "sorted_idx = np.argsort(np.abs(df_test[\"score\"].values - vader_preds_normal))\n",
    "messages = df_test[\"text\"].values[sorted_idx][-5:]\n",
    "correct_scores = df_test[\"score\"].values[sorted_idx][-5:]\n",
    "vader_scores = vader_preds_normal[sorted_idx][-5:]\n",
    "\n",
    "for i in range(len(messages)):\n",
    "    print(\n",
    "        f\"Correct score vs vader score = {correct_scores[i]: .3f} vs {vader_scores[i]: .3f}\"\n",
    "    )\n",
    "    print(messages[i])\n",
    "    print()"
   ]
  },
  {
   "cell_type": "code",
   "execution_count": 39,
   "metadata": {},
   "outputs": [
    {
     "name": "stdout",
     "output_type": "stream",
     "text": [
      "Correct score vs logreg score =  1.000 vs  5.000\n",
      "I am very disappointed with this product because I could not see how many calories it has at the time I ordered it. I received it and now I can see it has 60 calories per tablespoon. Granulated sugar has only 45 calories per tablespoon. How could Agave Nectar be better than sugar?\n",
      "\n",
      "Correct score vs logreg score =  1.000 vs  5.000\n",
      "To me, these are nothing like the regular Altoids and are not breath mints. They are pleasant-tasting little candies in a cute convenient tin, and that's as far as it goes. The mintiness is just not strong, and the wintergreens are definitely weaker than the peppermint minis. I'm not a dragon-breath person, but still, one of these mints is too small to have any effect on my breath. Four or five will freshen my breath for a short while - maybe 15 minutes. At this point, I think the Icebreakers Frost mints are the best as sugar free breath mints.\n",
      "\n",
      "Correct score vs logreg score =  1.000 vs  5.000\n",
      "I was so excited thinking they had my favorite discontinued Kettle flavor, but was disappointed when I opened the box and found this substitution. I am keeping them but would not have ordered 15 bags of this flavor. It is a very good bbq chip but I could get this flavor at the grocery store. Why oh why do my favorite food items always get discontinued??? The one star is for the substitution. The country bbq is a 4 start chip, but not the chip I longed for.\n",
      "\n",
      "Correct score vs logreg score =  5.000 vs  1.000\n",
      "I like \"Vernor's\", and drink it all the time. It is old fashioned drink from Michigan, since 1866, and the labeling was known for its lovely green and gold colors and the gnome character. If you look at the can it is actually called ginger soda instead of ale and is different than typical ginger ale in taste. Vernors has a strong vanilla presence, is smoother and more moist, and sweeter than a ginger ale. It is closer to a cream soda than ginger ale, very good. A ginger ale is more dry, higher in carbonation, and has a spicier bite to it. Vernors has 39 grams sugar per can, versus 33 grams per can for Schweppes Ginger Ale. Neither has caffeine.<br /><br />The recipe has changed a bit over the years mostly in the choice of sweeteners. They use the same high fructose corn syrup that the cost-cutting mega soda companies use, rather than the cane sugar they used to use. The down side to that is that the corn syrup syrup drowns out some of the flavors. Many microbrews are using cane sugar again, although it costs more, to get a better taste. Vernor's is still aged in oak barrels for 3 years, no doubt accounting for the smoothness. All in all a great soda for anytime. The soda is also known, like other ginger drinks, for its use as a home remedy for an upset stomach.<br />Vernor's is a regional soda, and there are many areas of the country you can't find it in. That is why it sells here. They may be selling it in glass bottles again soon, at least there is a page that says so the day I am writing this comment. Search at Amazon for ASIN: B001JK2SEG to see what I mean. Vernors has quite a history, and there are two books at Amazon about the soda. The first is Vernor's Ginger Ale (Images of America: Michigan) ISBN-10: 0738551856. The second book is \"The Vernor's Story: From Gnomes to Now\" ISBN-10: 0472066978 a book about the company's marketing green and gold packaging with the famous gnome, and Vernor's fans.\n",
      "\n",
      "Correct score vs logreg score =  1.000 vs  5.000\n",
      "I haven't used the ham base. It is loaded with MSG. I did not realize this when I ordered it and can not return it because it is a food item\n",
      "\n"
     ]
    }
   ],
   "source": [
    "sorted_idx = np.argsort(np.abs(df_test[\"score\"].values - logreg_preds))\n",
    "messages = df_test[\"text\"].values[sorted_idx][-5:]\n",
    "correct_scores = df_test[\"score\"].values[sorted_idx][-5:]\n",
    "logreg_scores = logreg_preds[sorted_idx][-5:]\n",
    "\n",
    "for i in range(len(messages)):\n",
    "    print(\n",
    "        f\"Correct score vs logreg score = {correct_scores[i]: .3f} vs {logreg_scores[i]: .3f}\"\n",
    "    )\n",
    "    print(messages[i])\n",
    "    print()"
   ]
  },
  {
   "cell_type": "code",
   "execution_count": 40,
   "metadata": {},
   "outputs": [
    {
     "name": "stdout",
     "output_type": "stream",
     "text": [
      "Correct score vs roberta score =  5.000 vs  1.218\n",
      "The product is all that it says it is which is why I gave it 5 stars.  However, I do have issues with the product, namely, me and my family members can't take the smell.  The taste is horrible so I put it in a lotion cream and rubbed it on my skin.  This was a few weeks ago and though I've since changed my sheets, the scent is still in my bed.  Ultimately, I stopped using it because it made me smell in a way I did not like.  It smells like an Indian spice and while it didn't work for me, scent-wise, it may work fine with someone else.\n",
      "\n",
      "Correct score vs roberta score =  5.000 vs  1.217\n",
      "If this flavor lasted longer than it does, I'd probably die of starvation for lack of wanting to take it out of my mouth.\n",
      "\n",
      "Correct score vs roberta score =  5.000 vs  1.203\n",
      "this gum is super sick.tatooes are killin.flavor is a spankin'.this brings back bomb diggity memories yo.peace out.\n",
      "\n",
      "Correct score vs roberta score =  5.000 vs  1.190\n",
      "I've eaten other brands of unsalted potato chips and they've always been terrible.  I didn't expect much when I bought these.  But after I tasted them I was amazed.  I have never enjoyed unsalted potato chips before these.  They have a natural potato flavor with thick, crunchy chips.  The only bad thing is the bag is a pain to open.  Use scissors and save yourself the aggravation.\n",
      "\n",
      "Correct score vs roberta score =  5.000 vs  1.170\n",
      "This bags are very difficult to open with the aid of some tool, such as scissors, don't even try without scissors.<br /><br />They are crispy and taste like chips that aren't advertised as being salted. They definitely aren't healthy, because I can feel the grease all over my fingers when eating them, and I can see the grease at the bottom of the bag, too.<br /><br />They are high-quality chips, and deserve to be put on your table.\n",
      "\n"
     ]
    }
   ],
   "source": [
    "sorted_idx = np.argsort(np.abs(df_test[\"score\"].values - roberta_preds_normal))\n",
    "messages = df_test[\"text\"].values[sorted_idx][-5:]\n",
    "correct_scores = df_test[\"score\"].values[sorted_idx][-5:]\n",
    "roberta_scores = roberta_preds_normal[sorted_idx][-5:]\n",
    "\n",
    "for i in range(len(messages)):\n",
    "    print(\n",
    "        f\"Correct score vs roberta score = {correct_scores[i]: .3f} vs {roberta_scores[i]: .3f}\"\n",
    "    )\n",
    "    print(messages[i])\n",
    "    print()"
   ]
  }
 ],
 "metadata": {
  "kernelspec": {
   "display_name": "ml",
   "language": "python",
   "name": "python3"
  },
  "language_info": {
   "codemirror_mode": {
    "name": "ipython",
    "version": 3
   },
   "file_extension": ".py",
   "mimetype": "text/x-python",
   "name": "python",
   "nbconvert_exporter": "python",
   "pygments_lexer": "ipython3",
   "version": "3.12.2"
  }
 },
 "nbformat": 4,
 "nbformat_minor": 2
}
