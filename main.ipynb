{
 "cells": [
  {
   "cell_type": "code",
   "execution_count": 1,
   "metadata": {},
   "outputs": [
    {
     "name": "stderr",
     "output_type": "stream",
     "text": [
      "[nltk_data] Downloading package vader_lexicon to\n",
      "[nltk_data]     /home/anj/nltk_data...\n",
      "[nltk_data]   Package vader_lexicon is already up-to-date!\n"
     ]
    }
   ],
   "source": [
    "import importlib\n",
    "from collections import namedtuple\n",
    "\n",
    "import matplotlib.pyplot as plt\n",
    "import nltk\n",
    "import numpy as np\n",
    "import pandas as pd\n",
    "import seaborn as sns\n",
    "from sklearn.metrics import (\n",
    "    explained_variance_score,\n",
    "    mean_absolute_error,\n",
    "    mean_squared_error,\n",
    "    r2_score,\n",
    ")\n",
    "from tqdm import tqdm\n",
    "\n",
    "import cleaning\n",
    "import preprocessing\n",
    "\n",
    "for module in [cleaning, preprocessing]:\n",
    "    try:\n",
    "        importlib.reload(module)  # reload module\n",
    "    except NameError:\n",
    "        pass\n",
    "\n",
    "\n",
    "nltk.download(\"vader_lexicon\")\n",
    "\n",
    "plt.style.use(\"ggplot\")\n",
    "\n",
    "\n",
    "def return_regr_score(y_true, y_pred):\n",
    "    \"\"\"\n",
    "    Return regression scores.\n",
    "    \"\"\"\n",
    "    mse = mean_squared_error(y_true, y_pred)\n",
    "    mae = mean_absolute_error(y_true, y_pred)\n",
    "    rmse = np.sqrt(mse)\n",
    "    r2 = r2_score(y_true, y_pred)\n",
    "    evs = explained_variance_score(y_true, y_pred)\n",
    "\n",
    "    Scores = namedtuple(\"Scores\", [\"mse\", \"mae\", \"rmse\", \"r2\", \"evs\"])\n",
    "    return Scores(mse, mae, rmse, r2, evs)\n",
    "\n",
    "\n",
    "def normalize_pred(preds, min_target, max_target):\n",
    "    \"\"\"\n",
    "    Normalize predictions to the given range.\n",
    "    \"\"\"\n",
    "    min_pred = preds.min()\n",
    "    max_pred = preds.max()\n",
    "    range_pred = max_pred - min_pred\n",
    "    range_target = max_target - min_target\n",
    "\n",
    "    preds_normal = ((preds - min_pred) / range_pred * range_target) + min_target\n",
    "    return preds_normal"
   ]
  },
  {
   "cell_type": "markdown",
   "metadata": {},
   "source": [
    "# Load Data"
   ]
  },
  {
   "cell_type": "code",
   "execution_count": 2,
   "metadata": {},
   "outputs": [],
   "source": [
    "def load_data(subset):\n",
    "    if subset == \"train\":\n",
    "        path = \"input/ReviewsSmallTrain.csv\"\n",
    "    elif subset == \"test\":\n",
    "        path = \"input/ReviewsSmallTest.csv\"\n",
    "\n",
    "    df = pd.read_csv(path, usecols=[\"Text\", \"Summary\", \"Score\"])\n",
    "    df.columns = df.columns.str.lower()\n",
    "    return df"
   ]
  },
  {
   "cell_type": "code",
   "execution_count": 3,
   "metadata": {},
   "outputs": [
    {
     "name": "stdout",
     "output_type": "stream",
     "text": [
      "(10000, 3)\n"
     ]
    },
    {
     "data": {
      "text/html": [
       "<div>\n",
       "<style scoped>\n",
       "    .dataframe tbody tr th:only-of-type {\n",
       "        vertical-align: middle;\n",
       "    }\n",
       "\n",
       "    .dataframe tbody tr th {\n",
       "        vertical-align: top;\n",
       "    }\n",
       "\n",
       "    .dataframe thead th {\n",
       "        text-align: right;\n",
       "    }\n",
       "</style>\n",
       "<table border=\"1\" class=\"dataframe\">\n",
       "  <thead>\n",
       "    <tr style=\"text-align: right;\">\n",
       "      <th></th>\n",
       "      <th>score</th>\n",
       "      <th>summary</th>\n",
       "      <th>text</th>\n",
       "    </tr>\n",
       "  </thead>\n",
       "  <tbody>\n",
       "    <tr>\n",
       "      <th>0</th>\n",
       "      <td>4</td>\n",
       "      <td>My dog loves these but....</td>\n",
       "      <td>I am so convinced these are human animal crack...</td>\n",
       "    </tr>\n",
       "    <tr>\n",
       "      <th>1</th>\n",
       "      <td>5</td>\n",
       "      <td>She loves them...</td>\n",
       "      <td>I have a whole box of peanut butter dog cookie...</td>\n",
       "    </tr>\n",
       "    <tr>\n",
       "      <th>2</th>\n",
       "      <td>3</td>\n",
       "      <td>Not healthy but they taste good</td>\n",
       "      <td>These little animal crackers taste good &amp; my d...</td>\n",
       "    </tr>\n",
       "    <tr>\n",
       "      <th>3</th>\n",
       "      <td>5</td>\n",
       "      <td>My dog loves these!!!!</td>\n",
       "      <td>My chihuahua loves these lil snacks. When she ...</td>\n",
       "    </tr>\n",
       "    <tr>\n",
       "      <th>4</th>\n",
       "      <td>5</td>\n",
       "      <td>The Puppy Dogs Love Them!</td>\n",
       "      <td>I purchased these little treats as stocking st...</td>\n",
       "    </tr>\n",
       "  </tbody>\n",
       "</table>\n",
       "</div>"
      ],
      "text/plain": [
       "   score                          summary  \\\n",
       "0      4       My dog loves these but....   \n",
       "1      5                She loves them...   \n",
       "2      3  Not healthy but they taste good   \n",
       "3      5           My dog loves these!!!!   \n",
       "4      5        The Puppy Dogs Love Them!   \n",
       "\n",
       "                                                text  \n",
       "0  I am so convinced these are human animal crack...  \n",
       "1  I have a whole box of peanut butter dog cookie...  \n",
       "2  These little animal crackers taste good & my d...  \n",
       "3  My chihuahua loves these lil snacks. When she ...  \n",
       "4  I purchased these little treats as stocking st...  "
      ]
     },
     "execution_count": 3,
     "metadata": {},
     "output_type": "execute_result"
    }
   ],
   "source": [
    "df_train = load_data(\"train\")\n",
    "print(df_train.shape)\n",
    "df_train.head(5)"
   ]
  },
  {
   "cell_type": "code",
   "execution_count": 4,
   "metadata": {},
   "outputs": [
    {
     "name": "stdout",
     "output_type": "stream",
     "text": [
      "(1000, 3)\n"
     ]
    },
    {
     "data": {
      "text/html": [
       "<div>\n",
       "<style scoped>\n",
       "    .dataframe tbody tr th:only-of-type {\n",
       "        vertical-align: middle;\n",
       "    }\n",
       "\n",
       "    .dataframe tbody tr th {\n",
       "        vertical-align: top;\n",
       "    }\n",
       "\n",
       "    .dataframe thead th {\n",
       "        text-align: right;\n",
       "    }\n",
       "</style>\n",
       "<table border=\"1\" class=\"dataframe\">\n",
       "  <thead>\n",
       "    <tr style=\"text-align: right;\">\n",
       "      <th></th>\n",
       "      <th>score</th>\n",
       "      <th>summary</th>\n",
       "      <th>text</th>\n",
       "    </tr>\n",
       "  </thead>\n",
       "  <tbody>\n",
       "    <tr>\n",
       "      <th>0</th>\n",
       "      <td>5</td>\n",
       "      <td>Good Quality Dog Food</td>\n",
       "      <td>I have bought several of the Vitality canned d...</td>\n",
       "    </tr>\n",
       "    <tr>\n",
       "      <th>1</th>\n",
       "      <td>1</td>\n",
       "      <td>Not as Advertised</td>\n",
       "      <td>Product arrived labeled as Jumbo Salted Peanut...</td>\n",
       "    </tr>\n",
       "    <tr>\n",
       "      <th>2</th>\n",
       "      <td>4</td>\n",
       "      <td>\"Delight\" says it all</td>\n",
       "      <td>This is a confection that has been around a fe...</td>\n",
       "    </tr>\n",
       "    <tr>\n",
       "      <th>3</th>\n",
       "      <td>2</td>\n",
       "      <td>Cough Medicine</td>\n",
       "      <td>If you are looking for the secret ingredient i...</td>\n",
       "    </tr>\n",
       "    <tr>\n",
       "      <th>4</th>\n",
       "      <td>5</td>\n",
       "      <td>Great taffy</td>\n",
       "      <td>Great taffy at a great price.  There was a wid...</td>\n",
       "    </tr>\n",
       "  </tbody>\n",
       "</table>\n",
       "</div>"
      ],
      "text/plain": [
       "   score                summary  \\\n",
       "0      5  Good Quality Dog Food   \n",
       "1      1      Not as Advertised   \n",
       "2      4  \"Delight\" says it all   \n",
       "3      2         Cough Medicine   \n",
       "4      5            Great taffy   \n",
       "\n",
       "                                                text  \n",
       "0  I have bought several of the Vitality canned d...  \n",
       "1  Product arrived labeled as Jumbo Salted Peanut...  \n",
       "2  This is a confection that has been around a fe...  \n",
       "3  If you are looking for the secret ingredient i...  \n",
       "4  Great taffy at a great price.  There was a wid...  "
      ]
     },
     "execution_count": 4,
     "metadata": {},
     "output_type": "execute_result"
    }
   ],
   "source": [
    "df_test = load_data(\"test\")\n",
    "print(df_test.shape)\n",
    "df_test.head(5)"
   ]
  },
  {
   "cell_type": "code",
   "execution_count": 37,
   "metadata": {},
   "outputs": [
    {
     "data": {
      "text/plain": [
       "(array([1, 2, 3, 4, 5]), array([ 938,  600,  855, 1419, 6188]))"
      ]
     },
     "execution_count": 37,
     "metadata": {},
     "output_type": "execute_result"
    }
   ],
   "source": [
    "np.unique(df_train[\"score\"], return_counts=True)"
   ]
  },
  {
   "cell_type": "code",
   "execution_count": null,
   "metadata": {},
   "outputs": [],
   "source": [
    "np.unique(df_test[\"score\"], return_counts=True)"
   ]
  },
  {
   "cell_type": "code",
   "execution_count": 6,
   "metadata": {},
   "outputs": [
    {
     "name": "stdout",
     "output_type": "stream",
     "text": [
      "Score 1: The noodles in the box were all broken.  The sauce was over salted and did not have a good flavor.  I threw out most of the skillet.  I would recommend not purchasing this product.\n",
      "Score 2: Ive been craving some deer jerky for a while so i gave this one and some others on amazon a try. This one was very sinue and a little too sweet for my taste. Not going to buy again. Im still on my search for the salty dry version im after\n",
      "Score 3: These little animal crackers taste good & my doggies like them, but I won't be buying again. They are like the human animal crackers & have flour & sugar & other bad stuff for dogs. I will continue to buy the healthy treats for my doggies which they also love without sugar. You might want to try Wellness, Blue Buffalo, Natural Balance, Zukes, just to name a few.\n",
      "Score 4: I am so convinced these are human animal crackers. They look and taste EXACTLY like human ones (yes, I tasted it) and they contain sugar, which is not one of the last ingredients in the nutrition facts either. So ill just give my dog very small amounts.\n",
      "Score 5: I have a whole box of peanut butter dog cookies and she wont touch them. She loves these and begs for them so it was a good buy. She is a little chihuhua and they are not too big for her mouth. About 20 per box.\n"
     ]
    }
   ],
   "source": [
    "for score in sorted(df_train[\"score\"].unique()):\n",
    "    sample = df_train.loc[df_train[\"score\"] == score, \"text\"].iloc[0]\n",
    "    print(f\"Score {score}: {sample}\")"
   ]
  },
  {
   "cell_type": "markdown",
   "metadata": {},
   "source": [
    "# VADER"
   ]
  },
  {
   "cell_type": "code",
   "execution_count": 7,
   "metadata": {},
   "outputs": [
    {
     "name": "stdout",
     "output_type": "stream",
     "text": [
      "{'neg': 0.0, 'neu': 0.308, 'pos': 0.692, 'compound': 0.6696}\n",
      "{'neg': 0.0, 'neu': 1.0, 'pos': 0.0, 'compound': 0.0}\n",
      "{'neg': 0.647, 'neu': 0.353, 'pos': 0.0, 'compound': -0.5661}\n"
     ]
    }
   ],
   "source": [
    "from nltk.sentiment.vader import SentimentIntensityAnalyzer\n",
    "\n",
    "vader = SentimentIntensityAnalyzer()\n",
    "print(vader.polarity_scores(\"I love my wife!\"))\n",
    "print(vader.polarity_scores(\"Nothing in particular.\"))\n",
    "print(vader.polarity_scores(\"I don't love you!\"))"
   ]
  },
  {
   "cell_type": "code",
   "execution_count": 8,
   "metadata": {},
   "outputs": [],
   "source": [
    "vader_preds = np.zeros(df_test.shape[0])\n",
    "\n",
    "for i, text in enumerate(df_test[\"text\"].values):\n",
    "    vader_preds[i] = vader.polarity_scores(text).get(\"compound\")"
   ]
  },
  {
   "cell_type": "code",
   "execution_count": 9,
   "metadata": {},
   "outputs": [
    {
     "data": {
      "text/plain": [
       "(1.0, 5.0)"
      ]
     },
     "execution_count": 9,
     "metadata": {},
     "output_type": "execute_result"
    }
   ],
   "source": [
    "vader_preds_normal = normalize_pred(vader_preds, 1, 5)\n",
    "vader_preds_normal.min(), vader_preds_normal.max()"
   ]
  },
  {
   "cell_type": "code",
   "execution_count": 10,
   "metadata": {},
   "outputs": [
    {
     "data": {
      "text/plain": [
       "Scores(mse=1.312321207809819, mae=0.7465035252345931, rmse=1.1455658897723078, r2=0.2522211585513854, evs=0.25536666650896)"
      ]
     },
     "execution_count": 10,
     "metadata": {},
     "output_type": "execute_result"
    }
   ],
   "source": [
    "vader_clf_scores = return_regr_score(df_test[\"score\"].values, vader_preds_normal)\n",
    "vader_clf_scores"
   ]
  },
  {
   "cell_type": "code",
   "execution_count": 11,
   "metadata": {},
   "outputs": [
    {
     "name": "stdout",
     "output_type": "stream",
     "text": [
      "True Score/Vader = 1.000/4.851\n",
      "I opened the can and immediately became concerned when I saw what looked like dried white crust, rather than fluffy frosting.  The package recommended stirring before use, so I gave that a try and under the crust was an indescribable gelatinous goo.  The best I can equate it to is a white version of the blue goop the mother serves for dinner in \"Better of Dead\" (no raisins in it though!).<br />I tried to stir it together and the end result was gelatinous goo with white crusties in it.  When lifting the knife to spread it long strings on goo trailed from my knife.<br />I opted for making my own frosting instead - very easy!  A little Sprectrum palm shortening, a lot of powdered sugar, a tiny splash of vanilla, a tiny bit of salt, and rice milk as needed for consistency, beat for 5 minutes, and I had the fluffy 'butter' cream frosting I thought I'd get from Cherrybrook.<br /><br />I wonder if our can was overheated in the store (whole foods) or something...<br />I've read positive reviews of their frosting mix, so maybe I'll try that next time.\n",
      "\n",
      "True Score/Vader = 2.000/4.451\n",
      "I was really looking forward to trying these chips since I love cheese but I was SUPER DISAPPOINTED! I am a big fan of Kettle Chips but these tasted somewhat stale and almost plain! They are supposed to have a cheddar taste but you cannot taste any of that...it's annoying. I do not recommend this flavor..salt and vinegar and buffalo bleu are my favorite.\n",
      "\n",
      "True Score/Vader = 3.000/4.995\n",
      "Both our twins love this one right from the start but it's not loaded with lentils (see ingredients below).  We introduced it when they were 7 months old and now they're 10 months.  I'm glad they are eating something green because we couldn't get them to eat the one with peas when we tried at 7 months, but we got them to eat the peas later at 9 months.<br /><br />Their favorite vegetable is sweet potato and we've also tried sweet potato with cinnamon. They love all the fruit varieties.<br /><br />I'm glad they love this one because lentils and brown rice form a complete protein, although a view of the ingredients shows that lentils is not one of the prime ingredients.<br /><br />This one also has carrots and I've heard all babies like carrots.  I don't know if they would like it without the carrots.  I haven't seen this one - lentils and brown rice - in our local stores, so I'm glad to get it here. Along with some others, we get this one with the subscription.  Of course, with twins one is forced to buy more in bulk and we're so busy that it's great to get these delivered.<br /><br />The packaging is excellent.  I've ordered an unbelievable number of cases of jars of different types and only had one jar arrive broken.<br /><br />Ingredients per label: Water, organic apples, organic carrots, organic brown rice, organic lentils, organic canola oil.<br /><br />This has 70 calories, 10% protein, 100% vitamin A, 4% vitamin C, 2% calcium and 4% iron.<br /><br />I'm informed that the daily intake percentage is based on an adult.\n",
      "\n",
      "True Score/Vader = 4.000/4.666\n",
      "These cookies were fun to paint but not too tasty to eat!<br />The kids did not really care much, but it might have been<br />more fun if they could have eaten them.<br /><br />They really had fun coloring them!\n",
      "\n",
      "True Score/Vader = 5.000/4.533\n",
      "I can remember buying this candy as a kid and the quality hasn't dropped in all these years. Still a superb product you won't be disappointed with.\n",
      "\n"
     ]
    }
   ],
   "source": [
    "for score in sorted(df_test[\"score\"].unique()):\n",
    "    sample_idx = df_test.loc[df_test[\"score\"] == score].sample(1).index.values[0]\n",
    "    text = df_test.loc[sample_idx, \"text\"]\n",
    "    true_score = df_test.loc[sample_idx, \"score\"]\n",
    "    vader_score = vader_preds_normal[sample_idx]\n",
    "    print(f\"True Score/Vader = {true_score:.3f}/{vader_score:.3f}\")\n",
    "    print(f\"{text}\")\n",
    "    print()"
   ]
  },
  {
   "cell_type": "markdown",
   "metadata": {},
   "source": [
    "# Classic ML Model Trained from Scratch"
   ]
  },
  {
   "cell_type": "code",
   "execution_count": 12,
   "metadata": {},
   "outputs": [
    {
     "name": "stderr",
     "output_type": "stream",
     "text": [
      "/home/anj/Documents/project/sentiment analysis - amazon fine food reviews/cleaning.py:11: MarkupResemblesLocatorWarning: The input looks more like a filename than markup. You may want to open this file and pass the filehandle into Beautiful Soup.\n",
      "  soup = BeautifulSoup(text, \"html.parser\")\n"
     ]
    }
   ],
   "source": [
    "from sklearn.linear_model import LogisticRegression\n",
    "\n",
    "x_train = [cleaning.clean(text) for text in df_train[\"text\"]]\n",
    "x_test = [cleaning.clean(text) for text in df_test[\"text\"]]\n",
    "y_train = df_train[\"score\"].values\n",
    "y_test = df_test[\"score\"].values"
   ]
  },
  {
   "cell_type": "code",
   "execution_count": 13,
   "metadata": {},
   "outputs": [
    {
     "name": "stdout",
     "output_type": "stream",
     "text": [
      "Before: I am so convinced these are human animal crackers. They look and taste EXACTLY like human ones (yes, I tasted it) and they contain sugar, which is not one of the last ingredients in the nutrition facts either. So ill just give my dog very small amounts.\n",
      "After: i am so convinced these are human animal crackers they look and taste exactly like human ones yes i tasted it and they contain sugar which is not one of the last ingredients in the nutrition facts either so ill just give my dog very small amounts\n",
      "\n",
      "Before: I have a whole box of peanut butter dog cookies and she wont touch them. She loves these and begs for them so it was a good buy. She is a little chihuhua and they are not too big for her mouth. About 20 per box.\n",
      "After: i have a whole box of peanut butter dog cookies and she wont touch them she loves these and begs for them so it was a good buy she is a little chihuhua and they are not too big for her mouth about 20 per box\n",
      "\n",
      "Before: These little animal crackers taste good & my doggies like them, but I won't be buying again. They are like the human animal crackers & have flour & sugar & other bad stuff for dogs. I will continue to buy the healthy treats for my doggies which they also love without sugar. You might want to try Wellness, Blue Buffalo, Natural Balance, Zukes, just to name a few.\n",
      "After: these little animal crackers taste good my doggies like them but i will not be buying again they are like the human animal crackers have flour sugar other bad stuff for dogs i will continue to buy the healthy treats for my doggies which they also love without sugar you might want to try wellness blue buffalo natural balance zukes just to name a few\n",
      "\n",
      "Before: My chihuahua loves these lil snacks. When she sees me bring out the yellow bus she literally runs in circles!\n",
      "After: my chihuahua loves these lil snacks when she sees me bring out the yellow bus she literally runs in circles\n",
      "\n",
      "Before: I purchased these little treats as stocking stuffers for our little furry friends.  Both Yorkies LOVED these treats.  We had to finally buy more since they liked them so much.\n",
      "After: i purchased these little treats as stocking stuffers for our little furry friends both yorkies loved these treats we had to finally buy more since they liked them so much\n",
      "\n"
     ]
    }
   ],
   "source": [
    "for i in range(5):\n",
    "    print(f\"Before: {df_train.iloc[i][\"text\"]}\")\n",
    "    print(f\"After: {x_train[i]}\")\n",
    "    print()"
   ]
  },
  {
   "cell_type": "code",
   "execution_count": 14,
   "metadata": {},
   "outputs": [],
   "source": [
    "x_train_preprocessed = [preprocessing.preprocess(text) for text in x_train]\n",
    "x_test_preprocessed = [preprocessing.preprocess(text) for text in x_test]"
   ]
  },
  {
   "cell_type": "code",
   "execution_count": 15,
   "metadata": {},
   "outputs": [
    {
     "name": "stdout",
     "output_type": "stream",
     "text": [
      "Before: i am so convinced these are human animal crackers they look and taste exactly like human ones yes i tasted it and they contain sugar which is not one of the last ingredients in the nutrition facts either so ill just give my dog very small amounts\n",
      "After: ['convinced', 'human', 'animal', 'cracker', 'look', 'taste', 'exactly', 'like', 'human', 'one', 'yes', 'tasted', 'contain', 'sugar', 'one', 'last', 'ingredient', 'nutrition', 'fact', 'either', 'ill', 'give', 'dog', 'small', 'amount']\n",
      "\n",
      "Before: i have a whole box of peanut butter dog cookies and she wont touch them she loves these and begs for them so it was a good buy she is a little chihuhua and they are not too big for her mouth about 20 per box\n",
      "After: ['whole', 'box', 'peanut', 'butter', 'dog', 'cooky', 'wont', 'touch', 'love', 'begs', 'good', 'buy', 'little', 'chihuhua', 'big', 'mouth', 'per', 'box']\n",
      "\n",
      "Before: these little animal crackers taste good my doggies like them but i will not be buying again they are like the human animal crackers have flour sugar other bad stuff for dogs i will continue to buy the healthy treats for my doggies which they also love without sugar you might want to try wellness blue buffalo natural balance zukes just to name a few\n",
      "After: ['little', 'animal', 'cracker', 'taste', 'good', 'doggy', 'like', 'buying', 'like', 'human', 'animal', 'cracker', 'flour', 'sugar', 'bad', 'stuff', 'dog', 'continue', 'buy', 'healthy', 'treat', 'doggy', 'also', 'love', 'without', 'sugar', 'might', 'want', 'try', 'wellness', 'blue', 'buffalo', 'natural', 'balance', 'zukes', 'name']\n",
      "\n",
      "Before: my chihuahua loves these lil snacks when she sees me bring out the yellow bus she literally runs in circles\n",
      "After: ['chihuahua', 'love', 'lil', 'snack', 'see', 'bring', 'yellow', 'bus', 'literally', 'run', 'circle']\n",
      "\n",
      "Before: i purchased these little treats as stocking stuffers for our little furry friends both yorkies loved these treats we had to finally buy more since they liked them so much\n",
      "After: ['purchased', 'little', 'treat', 'stocking', 'stuffer', 'little', 'furry', 'friend', 'yorkies', 'loved', 'treat', 'finally', 'buy', 'since', 'liked', 'much']\n",
      "\n"
     ]
    }
   ],
   "source": [
    "for i in range(5):\n",
    "    print(f\"Before: {x_train[i]}\")\n",
    "    print(f\"After: {x_train_preprocessed[i]}\")\n",
    "    print()"
   ]
  },
  {
   "cell_type": "code",
   "execution_count": 16,
   "metadata": {},
   "outputs": [],
   "source": [
    "import gensim\n",
    "\n",
    "x_train_tagged = []\n",
    "for i in range(len(x_train_preprocessed)):\n",
    "    tagged_doc = gensim.models.doc2vec.TaggedDocument(x_train_preprocessed[i], [i])\n",
    "    x_train_tagged.append(tagged_doc)"
   ]
  },
  {
   "cell_type": "code",
   "execution_count": 17,
   "metadata": {},
   "outputs": [
    {
     "data": {
      "text/plain": [
       "[TaggedDocument(words=['convinced', 'human', 'animal', 'cracker', 'look', 'taste', 'exactly', 'like', 'human', 'one', 'yes', 'tasted', 'contain', 'sugar', 'one', 'last', 'ingredient', 'nutrition', 'fact', 'either', 'ill', 'give', 'dog', 'small', 'amount'], tags=[0]),\n",
       " TaggedDocument(words=['whole', 'box', 'peanut', 'butter', 'dog', 'cooky', 'wont', 'touch', 'love', 'begs', 'good', 'buy', 'little', 'chihuhua', 'big', 'mouth', 'per', 'box'], tags=[1]),\n",
       " TaggedDocument(words=['little', 'animal', 'cracker', 'taste', 'good', 'doggy', 'like', 'buying', 'like', 'human', 'animal', 'cracker', 'flour', 'sugar', 'bad', 'stuff', 'dog', 'continue', 'buy', 'healthy', 'treat', 'doggy', 'also', 'love', 'without', 'sugar', 'might', 'want', 'try', 'wellness', 'blue', 'buffalo', 'natural', 'balance', 'zukes', 'name'], tags=[2])]"
      ]
     },
     "execution_count": 17,
     "metadata": {},
     "output_type": "execute_result"
    }
   ],
   "source": [
    "x_train_tagged[:3]"
   ]
  },
  {
   "cell_type": "code",
   "execution_count": 18,
   "metadata": {},
   "outputs": [],
   "source": [
    "model = gensim.models.doc2vec.Doc2Vec(vector_size=50, min_count=2, epochs=100)\n",
    "model.build_vocab(x_train_tagged)"
   ]
  },
  {
   "cell_type": "code",
   "execution_count": 19,
   "metadata": {},
   "outputs": [
    {
     "name": "stdout",
     "output_type": "stream",
     "text": [
      "Word 'human' appeared 46 times in the training corpus.\n"
     ]
    }
   ],
   "source": [
    "print(\n",
    "    f\"Word 'human' appeared {model.wv.get_vecattr('human', 'count')} times in the training corpus.\"\n",
    ")"
   ]
  },
  {
   "cell_type": "code",
   "execution_count": 20,
   "metadata": {},
   "outputs": [
    {
     "data": {
      "text/plain": [
       "True"
      ]
     },
     "execution_count": 20,
     "metadata": {},
     "output_type": "execute_result"
    }
   ],
   "source": [
    "model.corpus_count == len(x_train)"
   ]
  },
  {
   "cell_type": "code",
   "execution_count": 21,
   "metadata": {},
   "outputs": [],
   "source": [
    "model.train(x_train_tagged, total_examples=model.corpus_count, epochs=model.epochs)"
   ]
  },
  {
   "cell_type": "code",
   "execution_count": 22,
   "metadata": {},
   "outputs": [
    {
     "name": "stdout",
     "output_type": "stream",
     "text": [
      "[[0.3831499]]\n",
      "[[0.20350072]]\n"
     ]
    }
   ],
   "source": [
    "from sklearn.metrics.pairwise import cosine_similarity\n",
    "\n",
    "sample_1 = x_train_tagged[2]\n",
    "sample_2 = x_train_tagged[5]\n",
    "sample_3 = [\"vanquish\", \"that\", \"which\", \"kill\", \"you\"]\n",
    "\n",
    "vector_1 = model.infer_vector(sample_1.words)\n",
    "vector_2 = model.infer_vector(sample_2.words)\n",
    "vector_3 = model.infer_vector(sample_3)\n",
    "\n",
    "print(cosine_similarity(vector_1.reshape(1, -1), vector_2.reshape(1, -1)))\n",
    "print(cosine_similarity(vector_1.reshape(1, -1), vector_3.reshape(1, -1)))"
   ]
  },
  {
   "cell_type": "code",
   "execution_count": 23,
   "metadata": {},
   "outputs": [],
   "source": [
    "x_train_doc2vec = np.array([model.infer_vector(doc) for doc in x_train_preprocessed])\n",
    "x_test_doc2vec = np.array([model.infer_vector(doc) for doc in x_test_preprocessed])"
   ]
  },
  {
   "cell_type": "code",
   "execution_count": 24,
   "metadata": {},
   "outputs": [
    {
     "data": {
      "text/plain": [
       "((10000, 50), (1000, 50))"
      ]
     },
     "execution_count": 24,
     "metadata": {},
     "output_type": "execute_result"
    }
   ],
   "source": [
    "x_train_doc2vec.shape, x_test_doc2vec.shape"
   ]
  },
  {
   "cell_type": "code",
   "execution_count": 25,
   "metadata": {},
   "outputs": [
    {
     "data": {
      "text/plain": [
       "Scores(mse=1.978, mae=0.714, rmse=1.4064138793399332, r2=-0.12709185798642597, evs=-0.11560213087599203)"
      ]
     },
     "execution_count": 25,
     "metadata": {},
     "output_type": "execute_result"
    }
   ],
   "source": [
    "model = LogisticRegression(random_state=8, max_iter=1_000)\n",
    "model.fit(x_train_doc2vec, y_train)\n",
    "logreg_preds = model.predict(x_test_doc2vec)\n",
    "\n",
    "logreg_clf_scores = return_regr_score(y_test, logreg_preds)\n",
    "logreg_clf_scores"
   ]
  },
  {
   "cell_type": "code",
   "execution_count": 26,
   "metadata": {},
   "outputs": [
    {
     "name": "stdout",
     "output_type": "stream",
     "text": [
      "True Score/Vader/Logreg = 1.000/2.973/1.000\n",
      "I haven't used the ham base. It is loaded with MSG. I did not realize this when I ordered it and can not return it because it is a food item\n",
      "\n",
      "True Score/Vader/Logreg = 2.000/2.768/5.000\n",
      "I think the Pocky did not get stored rightly. The chocolate was falling off from the biscuit stick, and doesn't taste as it should. Many of them stick together, and whenever I want to split them up, it just becomes very messy. Now I need to clean up my desk every time after I have it.\n",
      "\n",
      "True Score/Vader/Logreg = 3.000/2.973/5.000\n",
      "These bags had a lot of overcooked brown pieces. also felt very greasy. Had to keep wiping my fingers on a napkin.\n",
      "\n",
      "True Score/Vader/Logreg = 4.000/4.845/3.000\n",
      "My husband likes these a lot. They are a bit different to get used to as they are less greasy and salty in taste than the usual chips you buy. They are more browner than I would like to see and the chips are pretty sturdy in texture. Not bad, though. Just takes getting used to eating chips better for your health. They do have about 1/2 the calories in fat, however.\n",
      "\n",
      "True Score/Vader/Logreg = 5.000/4.949/5.000\n",
      "This may sound rediculous, but I actually ordered the wrong brand of potato chips when I ordered these Kettle-brand jalapeno chips.  At the time I placed my order, I couldn't remember the name of the jalapeno chips that I had recently discovered and liked, and the Kettle-brand chips were packaged in a similarly-colored bag.  But, it all worked out for the best because I do really like the Kettle-brand of jalapeno chips, and will happily munch away on them during upcoming TV football games.  When I run out (probably sometime next year!), I will likey purchase Miss Vicky brand of jalapeno chips, and I plan to try the other flavors of Kettle-brand chips.  Imho, Kettle-brand chips are excellent and I recommend them to all potato chip 'affection-ados'.<br /><br />Sincerely,<br /><br />  § homiedog §\n",
      "\n"
     ]
    }
   ],
   "source": [
    "for score in sorted(df_test[\"score\"].unique()):\n",
    "    sample_idx = df_test.loc[df_test[\"score\"] == score].sample(1).index.values[0]\n",
    "    text = df_test.loc[sample_idx, \"text\"]\n",
    "    true_score = df_test.loc[sample_idx, \"score\"]\n",
    "    vader_score = vader_preds_normal[sample_idx]\n",
    "    logreg_score = logreg_preds[sample_idx]\n",
    "    print(f\"True Score/Vader/Logreg = {true_score:.3f}/{vader_score:.3f}/{logreg_score:.3f}\")\n",
    "    print(f\"{text}\")\n",
    "    print()"
   ]
  },
  {
   "cell_type": "markdown",
   "metadata": {},
   "source": [
    "# Roberta Pretarined Model"
   ]
  },
  {
   "cell_type": "code",
   "execution_count": 27,
   "metadata": {},
   "outputs": [
    {
     "name": "stderr",
     "output_type": "stream",
     "text": [
      "Some weights of the model checkpoint at cardiffnlp/twitter-roberta-base-sentiment-latest were not used when initializing RobertaForSequenceClassification: ['roberta.pooler.dense.bias', 'roberta.pooler.dense.weight']\n",
      "- This IS expected if you are initializing RobertaForSequenceClassification from the checkpoint of a model trained on another task or with another architecture (e.g. initializing a BertForSequenceClassification model from a BertForPreTraining model).\n",
      "- This IS NOT expected if you are initializing RobertaForSequenceClassification from the checkpoint of a model that you expect to be exactly identical (initializing a BertForSequenceClassification model from a BertForSequenceClassification model).\n"
     ]
    }
   ],
   "source": [
    "from transformers import AutoTokenizer\n",
    "from transformers import AutoModelForSequenceClassification\n",
    "from scipy.special import softmax\n",
    "\n",
    "\n",
    "def combine_roberta_scores(scores):\n",
    "    negative, neutral, positive = scores\n",
    "    if positive > neutral and positive > negative:\n",
    "        return positive  # Strong positive sentiment\n",
    "    elif negative > positive and negative > neutral:\n",
    "        return -negative  # Strong negative sentiment\n",
    "    else:\n",
    "        return neutral  # Neutral sentiment\n",
    "\n",
    "\n",
    "MODEL = f\"cardiffnlp/twitter-roberta-base-sentiment-latest\"\n",
    "tokenizer = AutoTokenizer.from_pretrained(MODEL)\n",
    "roberta_model = AutoModelForSequenceClassification.from_pretrained(MODEL)"
   ]
  },
  {
   "cell_type": "code",
   "execution_count": 28,
   "metadata": {},
   "outputs": [
    {
     "data": {
      "text/plain": [
       "0.83730406"
      ]
     },
     "execution_count": 28,
     "metadata": {},
     "output_type": "execute_result"
    }
   ],
   "source": [
    "sample = \"If it were possible to give this product zero stars, I would have done so.  I am a huge fan of Twinings teas, and was very excited to try this new blend.  After arriving home from the grocery, I immediately started the kettle to enjoy a cup while prepping dinner.  Between sorting, washing, and chopping items, the hot water was added to the bag to steep.  Preparation continued, until a distinctly off odor hit me.  I thought one of my ingredients must be rancid!  I hunted around for almost four minutes before I realized it was the tea.  Even after cleaning up, and airing out the kitchen, my roommate later came in and asked about the smell.  Save your money to purchase ANY other Twinings product.\"\n",
    "\n",
    "endoded_sample = tokenizer(sample, return_tensors=\"pt\")\n",
    "output = roberta_model(**endoded_sample)\n",
    "scores = output[0][0].detach().numpy()\n",
    "scores = softmax(scores)\n",
    "scores = combine_roberta_scores(scores)\n",
    "scores"
   ]
  },
  {
   "cell_type": "code",
   "execution_count": 29,
   "metadata": {},
   "outputs": [
    {
     "name": "stderr",
     "output_type": "stream",
     "text": [
      "Processing: 100%|██████████| 1000/1000 [01:58<00:00,  8.40it/s]\n"
     ]
    }
   ],
   "source": [
    "roberta_preds = np.zeros(df_test.shape[0])\n",
    "\n",
    "for i, text in tqdm(enumerate(df_test[\"text\"].values), total=len(df_test), desc=\"Processing\"):\n",
    "    try:\n",
    "        endoded_text = tokenizer(text, return_tensors=\"pt\")\n",
    "        output = roberta_model(**endoded_text)\n",
    "        scores = output[0][0].detach().numpy()\n",
    "        scores = softmax(scores)\n",
    "        score = combine_roberta_scores(scores)\n",
    "    except RuntimeError:\n",
    "        score = 0\n",
    "    roberta_preds[i] = score"
   ]
  },
  {
   "cell_type": "code",
   "execution_count": 30,
   "metadata": {},
   "outputs": [
    {
     "data": {
      "text/plain": [
       "(1.0, 5.0)"
      ]
     },
     "execution_count": 30,
     "metadata": {},
     "output_type": "execute_result"
    }
   ],
   "source": [
    "roberta_preds_normal = normalize_pred(roberta_preds, 1, 5)\n",
    "roberta_preds_normal.min(), roberta_preds_normal.max()"
   ]
  },
  {
   "cell_type": "code",
   "execution_count": 31,
   "metadata": {},
   "outputs": [
    {
     "data": {
      "text/plain": [
       "Scores(mse=0.7827122513520923, mae=0.5085055407485638, rmse=0.8847102640707252, r2=0.5539996938093183, evs=0.5552486866284492)"
      ]
     },
     "execution_count": 31,
     "metadata": {},
     "output_type": "execute_result"
    }
   ],
   "source": [
    "roberta_clf_scores = return_regr_score(df_test[\"score\"].values, roberta_preds_normal)\n",
    "roberta_clf_scores"
   ]
  },
  {
   "cell_type": "code",
   "execution_count": 32,
   "metadata": {},
   "outputs": [
    {
     "name": "stdout",
     "output_type": "stream",
     "text": [
      "True Score/Vader/Logreg/Roberta = 1.000/4.968/1.000/1.219\n",
      "and THAT is  the problem. I order these by the case of 12 - and when they are good, which is over half the time they are the BEST kettle chip, THE BEST! and then I get a case of the worse - the potatos are mealy and old so I just throw them out and order again, expensive BUT when they are made with good fresh potatos they are the best - the last case is what prompted me to write this - the potatos were weird - like they were almost sour as in going bad - and I even wrote the company that makes them - SO if you want the BEST kettle chip there is try these and if the ones you get are NOT the best try again!<br />I, myself am done ordering because it is creeping me out that they are using soured potatos and either not noticing or not caring.\n",
      "\n",
      "True Score/Vader/Logreg/Roberta = 2.000/4.680/5.000/1.910\n",
      "I can't eat these oats, they have a funny taste to them.  My kids also think they taste funny.  My husband thinks they are OK, so he has 50 pounds of oats to eat on his own!\n",
      "\n",
      "True Score/Vader/Logreg/Roberta = 3.000/4.216/1.000/1.919\n",
      "I might be mistaken, but it appears that the pieces in this bag were reduced in size.  If they did do that, it was doubtlessly done to make it appear that the buyer got a better deal, having so many pieces after all.  The problem is that the pieces have to be a certain size in order to have enough flavor for your eating experience.  As it is, you have to use 2 or 3 pieces to match the old piece size;  it is not the same.\n",
      "\n",
      "True Score/Vader/Logreg/Roberta = 4.000/4.832/5.000/4.736\n",
      "Really easy project for family fun anytime not just for Christmas. Just put icing between cookies and stack. Then ice outside and decorate. Great for all ages. Strawberry licorice rope looks like stuck together but just find end and unwind.<br /><br />* CAUTION UNDER 3** Small hard candy decorations swallowing hazard.<br /><br />Comes with everything you need except bowls an spoons.<br />contains :<br />cookie pieces<br />Large bag yellow colored icing ( East to mix with just fork, you add water slowly as to not get to thin)<br />small white icing bag (you add water slowly)<br />green color to add to small amount of white<br />3 clear decorator<br />4 plastic decorator tips ( can save to reuse)<br />small bead candy for decoration 9chokign hazard)<br />strawberry licorice rope<br />1 small tube of orange writing icing<br />Hard candy wreath decoration about 2\" diameter<br />Gummy Spongebob about 4\" tall<br />Gummy Patrick about 4\" tall<br /><br />Icing set up hard so when you go to eat  it has to be pried apart in pieces. Cookies do get a little softer in the middle.<br /><br />Make anytime of year. Leave off wreat and Patrick and cut out Spongebob's head so does not look like chirstmas.\n",
      "\n",
      "True Score/Vader/Logreg/Roberta = 5.000/4.834/5.000/4.507\n",
      "Good oatmeal.  I like the apple cinnamon the best.  Though I wouldn't follow the directions on the package since it always comes out too soupy for my taste.  That could just be me since I like my oatmeal really thick to add some milk on top of.\n",
      "\n"
     ]
    }
   ],
   "source": [
    "for score in sorted(df_test[\"score\"].unique()):\n",
    "    sample_idx = df_test.loc[df_test[\"score\"] == score].sample(1).index.values[0]\n",
    "    text = df_test.loc[sample_idx, \"text\"]\n",
    "    true_score = df_test.loc[sample_idx, \"score\"]\n",
    "    vader_score = vader_preds_normal[sample_idx]\n",
    "    logreg_score = logreg_preds[sample_idx]\n",
    "    roberta_score = roberta_preds_normal[sample_idx]\n",
    "    print(\n",
    "        f\"True Score/Vader/Logreg/Roberta = {true_score:.3f}/{vader_score:.3f}/{logreg_score:.3f}/{roberta_score:.3f}\"\n",
    "    )\n",
    "    print(f\"{text}\")\n",
    "    print()"
   ]
  },
  {
   "cell_type": "markdown",
   "metadata": {},
   "source": [
    "# Compare Scores"
   ]
  },
  {
   "cell_type": "code",
   "execution_count": 33,
   "metadata": {},
   "outputs": [
    {
     "data": {
      "text/plain": [
       "(Scores(mse=1.312321207809819, mae=0.7465035252345931, rmse=1.1455658897723078, r2=0.2522211585513854, evs=0.25536666650896),\n",
       " Scores(mse=1.978, mae=0.714, rmse=1.4064138793399332, r2=-0.12709185798642597, evs=-0.11560213087599203),\n",
       " Scores(mse=0.7827122513520923, mae=0.5085055407485638, rmse=0.8847102640707252, r2=0.5539996938093183, evs=0.5552486866284492))"
      ]
     },
     "execution_count": 33,
     "metadata": {},
     "output_type": "execute_result"
    }
   ],
   "source": [
    "vader_clf_scores, logreg_clf_scores, roberta_clf_scores"
   ]
  },
  {
   "cell_type": "code",
   "execution_count": 34,
   "metadata": {},
   "outputs": [
    {
     "data": {
      "text/html": [
       "<div>\n",
       "<style scoped>\n",
       "    .dataframe tbody tr th:only-of-type {\n",
       "        vertical-align: middle;\n",
       "    }\n",
       "\n",
       "    .dataframe tbody tr th {\n",
       "        vertical-align: top;\n",
       "    }\n",
       "\n",
       "    .dataframe thead th {\n",
       "        text-align: right;\n",
       "    }\n",
       "</style>\n",
       "<table border=\"1\" class=\"dataframe\">\n",
       "  <thead>\n",
       "    <tr style=\"text-align: right;\">\n",
       "      <th></th>\n",
       "      <th>vader</th>\n",
       "      <th>logreg</th>\n",
       "      <th>roberta</th>\n",
       "    </tr>\n",
       "  </thead>\n",
       "  <tbody>\n",
       "    <tr>\n",
       "      <th>mse</th>\n",
       "      <td>1.312321</td>\n",
       "      <td>1.978000</td>\n",
       "      <td>0.782712</td>\n",
       "    </tr>\n",
       "    <tr>\n",
       "      <th>mae</th>\n",
       "      <td>0.746504</td>\n",
       "      <td>0.714000</td>\n",
       "      <td>0.508506</td>\n",
       "    </tr>\n",
       "    <tr>\n",
       "      <th>rmse</th>\n",
       "      <td>1.145566</td>\n",
       "      <td>1.406414</td>\n",
       "      <td>0.884710</td>\n",
       "    </tr>\n",
       "    <tr>\n",
       "      <th>r2</th>\n",
       "      <td>0.252221</td>\n",
       "      <td>-0.127092</td>\n",
       "      <td>0.554000</td>\n",
       "    </tr>\n",
       "    <tr>\n",
       "      <th>evs</th>\n",
       "      <td>0.255367</td>\n",
       "      <td>-0.115602</td>\n",
       "      <td>0.555249</td>\n",
       "    </tr>\n",
       "  </tbody>\n",
       "</table>\n",
       "</div>"
      ],
      "text/plain": [
       "         vader    logreg   roberta\n",
       "mse   1.312321  1.978000  0.782712\n",
       "mae   0.746504  0.714000  0.508506\n",
       "rmse  1.145566  1.406414  0.884710\n",
       "r2    0.252221 -0.127092  0.554000\n",
       "evs   0.255367 -0.115602  0.555249"
      ]
     },
     "execution_count": 34,
     "metadata": {},
     "output_type": "execute_result"
    }
   ],
   "source": [
    "pd.DataFrame(\n",
    "    [vader_clf_scores, logreg_clf_scores, roberta_clf_scores], index=[\"vader\", \"logreg\", \"roberta\"]\n",
    ").transpose()"
   ]
  },
  {
   "cell_type": "markdown",
   "metadata": {},
   "source": [
    "# Review: Where Models are \"Wrong\" the Most"
   ]
  },
  {
   "cell_type": "code",
   "execution_count": 35,
   "metadata": {},
   "outputs": [
    {
     "name": "stdout",
     "output_type": "stream",
     "text": [
      "Correct score vs vader score =  1.000 vs  4.845\n",
      "My daughter had extensive food allergies as an infant/toddler and we bought these bars consistently.  She still has the nut and egg allergy so I like that I can trust the manufacturer and know the food is safe.  Unfortnately the last few times we have purchased the bars (all varieties) they have been hard as a rock and my daughter won't eat them.  I have tried them myself and thought I might break a tooth. I had them on subscribe and save; which I have now cancelled and have several boxes which no one in my family will eat.  I agree with a previous post. I want to love these bars and I love everything the company stands for (and actually really like their cookies), but something has changed with these bars and they are just not even appetizing.  I hope they address the issue and I will certainly try them again if they do something to enhance the taste and address the issue with the texture. A total bummer -  they were better in the past but something changed with the taste, along with their new packaging!!\n",
      "\n",
      "Correct score vs vader score =  1.000 vs  4.851\n",
      "I opened the can and immediately became concerned when I saw what looked like dried white crust, rather than fluffy frosting.  The package recommended stirring before use, so I gave that a try and under the crust was an indescribable gelatinous goo.  The best I can equate it to is a white version of the blue goop the mother serves for dinner in \"Better of Dead\" (no raisins in it though!).<br />I tried to stir it together and the end result was gelatinous goo with white crusties in it.  When lifting the knife to spread it long strings on goo trailed from my knife.<br />I opted for making my own frosting instead - very easy!  A little Sprectrum palm shortening, a lot of powdered sugar, a tiny splash of vanilla, a tiny bit of salt, and rice milk as needed for consistency, beat for 5 minutes, and I had the fluffy 'butter' cream frosting I thought I'd get from Cherrybrook.<br /><br />I wonder if our can was overheated in the store (whole foods) or something...<br />I've read positive reviews of their frosting mix, so maybe I'll try that next time.\n",
      "\n",
      "Correct score vs vader score =  1.000 vs  4.934\n",
      "Buyer Beware Please! This sweetener is not for everybody.  Maltitol is an alcohol sugar and can be undigestible in the body.  You will know a short time after consuming it if you are one of the unsuspecting many who cannot digest it by the extreme intestinal bloating and cramping and massive amounts of gas a person can experience. Nausea, diarrhea & headaches can also be experienced. I learned my lesson the hard way years ago when I fell in love with the sugar-free chocolates suzanne sommers used to sell.  I thought I'd found sugar-free chocolate nirvana at first taste but the bliss was short lived when the terrible side effects of maltitol kicked in.  The discomfort was unlike anything I had ever felt before.  I blew up like a balloon and had very painful abdominal cramping.  As the symptoms passed, this too was very unpleasant.  Though hard for me to believe a low calorie sweetener could be the culprit, all symptoms were gone when I stopped eating the chocolate. My hunch it had something to do with the maltitol were unfortunately confirmed for me about a year later when I purchased some delicious sugar-free popcorn at my local market.  The taste was amazing and while I was looking at the label wondering what could possibly make this yummy, new sugarfree treat taste so good, my heart sank when I followed the little asterisk next to sugarfree sweetener* down to the very bottom of the label and read \"maltitol\" in tiny little letters! Thank goodness I'd eaten only a little. I still ended up with all the same side-effects but for a much shorter duration. Some people can use maltitol to their heart's content but others, like me, can have a bad reaction to it. In case you're like me, ... it's not you ...it's the maltitol!\n",
      "\n",
      "Correct score vs vader score =  1.000 vs  4.968\n",
      "and THAT is  the problem. I order these by the case of 12 - and when they are good, which is over half the time they are the BEST kettle chip, THE BEST! and then I get a case of the worse - the potatos are mealy and old so I just throw them out and order again, expensive BUT when they are made with good fresh potatos they are the best - the last case is what prompted me to write this - the potatos were weird - like they were almost sour as in going bad - and I even wrote the company that makes them - SO if you want the BEST kettle chip there is try these and if the ones you get are NOT the best try again!<br />I, myself am done ordering because it is creeping me out that they are using soured potatos and either not noticing or not caring.\n",
      "\n",
      "Correct score vs vader score =  1.000 vs  4.995\n",
      "I once loved these chips and they were the only chips i would buy.  I discovered them when I was in England back in 2000 and quickly became a fan.  About a year ago I picked up a bag that was on sale at my local supermarket.  I was finding it odd that they were on sale so much but took advantage of it.  After opening the bag I found the chips were not even close to the Kettle chips I was used to.  They were all uniform whitish yellow in color, flavor was way off, the lovely extra crisp brown chips were gone completely and I was very disappointed.  So I e-mailed Kettle with the following:  \"What Happened? I bought this bag of chips the other day and they have a very different taste; It tastes \"cheaper\". I don't know how else to put it... I also noticed that the chips seemed to be less cooked as I did not see any of the browner colored chips that have the most flavor. I am hoping that nothing has changed with the ingredients or process used to produce this product. Did I just get a weird batch? I have been buying only Kettle Chips for about 10 years now so I am wondering.\"  I did receive a reply: \"Thanks for letting us know about your experience with your Kettle Brand® Chips. It sounds like you may have received a bag that should not have slipped by our inspections, and we apologize.Our potatoes do vary seasonally which could account for a variation in color-but our chips should still taste great!Thanks for providing us with the \"best before\" code from the bag.  This really helps when passing on your comments to our staff.<br />We are sending some coupons to replace your purchase with any of our Kettle Brand® flavors or nut butters, believing you will have a great experience with your next purchase! In case you buy this product again, we suggest avoiding the same best before date (if you still have it) in the rare instance another bag from the same case slipped by our inspections at the same time.<br />Thanks again for letting us know about this and expect the coupons to arrive within 3 weeks.  Please let me know if I can be of any more help.\"  Well the next bag was good.  Since that time I have picked up 3 bags of chips all were like the \"bad\" bag so I am pretty sure that they have changed there product to reduce cost.  I did some research and found out that Kettle was bought out by a private equity company.  So the same cookie cutter management processes are probably being employed at Kettle.  Acquire company with high quality brand recognition, sell product to mass merchants, lower quality/cost of product to increase margin and finally sell company just before the customer base starts to realize that the brand is no longer a quality brand.  increased profits make the company more valuable on paper so they make a nice profit for the investors. Customer and employees lose out of course as does an unsuspecting buyer of the exploited brand.  Stay away from Kettle chips they are no longer the same...\n",
      "\n"
     ]
    }
   ],
   "source": [
    "sorted_idx = np.argsort(np.abs(df_test[\"score\"].values - vader_preds_normal))\n",
    "messages = df_test[\"text\"].values[sorted_idx][-5:]\n",
    "correct_scores = df_test[\"score\"].values[sorted_idx][-5:]\n",
    "vader_scores = vader_preds_normal[sorted_idx][-5:]\n",
    "\n",
    "for i in range(len(messages)):\n",
    "    print(\n",
    "        f\"Correct score vs vader score = {correct_scores[i]: .3f} vs {vader_scores[i]: .3f}\"\n",
    "    )\n",
    "    print(messages[i])\n",
    "    print()"
   ]
  },
  {
   "cell_type": "code",
   "execution_count": 36,
   "metadata": {},
   "outputs": [
    {
     "name": "stdout",
     "output_type": "stream",
     "text": [
      "Correct score vs roberta score =  5.000 vs  1.218\n",
      "The product is all that it says it is which is why I gave it 5 stars.  However, I do have issues with the product, namely, me and my family members can't take the smell.  The taste is horrible so I put it in a lotion cream and rubbed it on my skin.  This was a few weeks ago and though I've since changed my sheets, the scent is still in my bed.  Ultimately, I stopped using it because it made me smell in a way I did not like.  It smells like an Indian spice and while it didn't work for me, scent-wise, it may work fine with someone else.\n",
      "\n",
      "Correct score vs roberta score =  5.000 vs  1.217\n",
      "If this flavor lasted longer than it does, I'd probably die of starvation for lack of wanting to take it out of my mouth.\n",
      "\n",
      "Correct score vs roberta score =  5.000 vs  1.203\n",
      "this gum is super sick.tatooes are killin.flavor is a spankin'.this brings back bomb diggity memories yo.peace out.\n",
      "\n",
      "Correct score vs roberta score =  5.000 vs  1.190\n",
      "I've eaten other brands of unsalted potato chips and they've always been terrible.  I didn't expect much when I bought these.  But after I tasted them I was amazed.  I have never enjoyed unsalted potato chips before these.  They have a natural potato flavor with thick, crunchy chips.  The only bad thing is the bag is a pain to open.  Use scissors and save yourself the aggravation.\n",
      "\n",
      "Correct score vs roberta score =  5.000 vs  1.170\n",
      "This bags are very difficult to open with the aid of some tool, such as scissors, don't even try without scissors.<br /><br />They are crispy and taste like chips that aren't advertised as being salted. They definitely aren't healthy, because I can feel the grease all over my fingers when eating them, and I can see the grease at the bottom of the bag, too.<br /><br />They are high-quality chips, and deserve to be put on your table.\n",
      "\n"
     ]
    }
   ],
   "source": [
    "sorted_idx = np.argsort(np.abs(df_test[\"score\"].values - roberta_preds_normal))\n",
    "messages = df_test[\"text\"].values[sorted_idx][-5:]\n",
    "correct_scores = df_test[\"score\"].values[sorted_idx][-5:]\n",
    "roberta_scores = roberta_preds_normal[sorted_idx][-5:]\n",
    "\n",
    "for i in range(len(messages)):\n",
    "    print(\n",
    "        f\"Correct score vs roberta score = {correct_scores[i]: .3f} vs {roberta_scores[i]: .3f}\"\n",
    "    )\n",
    "    print(messages[i])\n",
    "    print()"
   ]
  }
 ],
 "metadata": {
  "kernelspec": {
   "display_name": "ml",
   "language": "python",
   "name": "python3"
  },
  "language_info": {
   "codemirror_mode": {
    "name": "ipython",
    "version": 3
   },
   "file_extension": ".py",
   "mimetype": "text/x-python",
   "name": "python",
   "nbconvert_exporter": "python",
   "pygments_lexer": "ipython3",
   "version": "3.12.2"
  }
 },
 "nbformat": 4,
 "nbformat_minor": 2
}
