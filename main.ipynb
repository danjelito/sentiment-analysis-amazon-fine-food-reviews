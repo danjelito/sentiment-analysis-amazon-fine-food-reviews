{
 "cells": [
  {
   "cell_type": "code",
   "execution_count": 131,
   "metadata": {},
   "outputs": [
    {
     "name": "stderr",
     "output_type": "stream",
     "text": [
      "[nltk_data] Downloading package vader_lexicon to\n",
      "[nltk_data]     /home/anj/nltk_data...\n",
      "[nltk_data]   Package vader_lexicon is already up-to-date!\n"
     ]
    }
   ],
   "source": [
    "from collections import namedtuple\n",
    "\n",
    "from tqdm import tqdm\n",
    "import matplotlib.pyplot as plt\n",
    "import nltk\n",
    "import numpy as np\n",
    "import pandas as pd\n",
    "import seaborn as sns\n",
    "from sklearn.metrics import (\n",
    "    explained_variance_score,\n",
    "    mean_absolute_error,\n",
    "    mean_squared_error,\n",
    "    r2_score,\n",
    ")\n",
    "\n",
    "nltk.download(\"vader_lexicon\")\n",
    "\n",
    "plt.style.use(\"ggplot\")\n",
    "\n",
    "\n",
    "def return_regr_score(y_true, y_pred):\n",
    "    \"\"\"\n",
    "    Return regression scores.\n",
    "    \"\"\"\n",
    "    mse = mean_squared_error(y_true, y_pred)\n",
    "    mae = mean_absolute_error(y_true, y_pred)\n",
    "    rmse = np.sqrt(mse)\n",
    "    r2 = r2_score(y_true, y_pred)\n",
    "    evs = explained_variance_score(y_true, y_pred)\n",
    "\n",
    "    Scores = namedtuple(\"Scores\", [\"mse\", \"mae\", \"rmse\", \"r2\", \"evs\"])\n",
    "    return Scores(mse, mae, rmse, r2, evs)\n",
    "\n",
    "\n",
    "def normalize_pred(preds, min_target, max_target):\n",
    "    \"\"\"\n",
    "    Normalize predictions to the given range.\n",
    "    \"\"\"\n",
    "    min_pred = preds.min()\n",
    "    max_pred = preds.max()\n",
    "    range_pred = max_pred - min_pred\n",
    "    range_target = max_target - min_target\n",
    "\n",
    "    preds_normal = ((preds - min_pred) / range_pred * range_target) + min_target\n",
    "    return preds_normal"
   ]
  },
  {
   "cell_type": "markdown",
   "metadata": {},
   "source": [
    "# Load Data"
   ]
  },
  {
   "cell_type": "code",
   "execution_count": 121,
   "metadata": {},
   "outputs": [
    {
     "name": "stdout",
     "output_type": "stream",
     "text": [
      "(1000, 3)\n"
     ]
    },
    {
     "data": {
      "text/html": [
       "<div>\n",
       "<style scoped>\n",
       "    .dataframe tbody tr th:only-of-type {\n",
       "        vertical-align: middle;\n",
       "    }\n",
       "\n",
       "    .dataframe tbody tr th {\n",
       "        vertical-align: top;\n",
       "    }\n",
       "\n",
       "    .dataframe thead th {\n",
       "        text-align: right;\n",
       "    }\n",
       "</style>\n",
       "<table border=\"1\" class=\"dataframe\">\n",
       "  <thead>\n",
       "    <tr style=\"text-align: right;\">\n",
       "      <th></th>\n",
       "      <th>score</th>\n",
       "      <th>summary</th>\n",
       "      <th>text</th>\n",
       "    </tr>\n",
       "  </thead>\n",
       "  <tbody>\n",
       "    <tr>\n",
       "      <th>0</th>\n",
       "      <td>5</td>\n",
       "      <td>Good Quality Dog Food</td>\n",
       "      <td>I have bought several of the Vitality canned d...</td>\n",
       "    </tr>\n",
       "    <tr>\n",
       "      <th>1</th>\n",
       "      <td>1</td>\n",
       "      <td>Not as Advertised</td>\n",
       "      <td>Product arrived labeled as Jumbo Salted Peanut...</td>\n",
       "    </tr>\n",
       "    <tr>\n",
       "      <th>2</th>\n",
       "      <td>4</td>\n",
       "      <td>\"Delight\" says it all</td>\n",
       "      <td>This is a confection that has been around a fe...</td>\n",
       "    </tr>\n",
       "    <tr>\n",
       "      <th>3</th>\n",
       "      <td>2</td>\n",
       "      <td>Cough Medicine</td>\n",
       "      <td>If you are looking for the secret ingredient i...</td>\n",
       "    </tr>\n",
       "    <tr>\n",
       "      <th>4</th>\n",
       "      <td>5</td>\n",
       "      <td>Great taffy</td>\n",
       "      <td>Great taffy at a great price.  There was a wid...</td>\n",
       "    </tr>\n",
       "  </tbody>\n",
       "</table>\n",
       "</div>"
      ],
      "text/plain": [
       "   score                summary  \\\n",
       "0      5  Good Quality Dog Food   \n",
       "1      1      Not as Advertised   \n",
       "2      4  \"Delight\" says it all   \n",
       "3      2         Cough Medicine   \n",
       "4      5            Great taffy   \n",
       "\n",
       "                                                text  \n",
       "0  I have bought several of the Vitality canned d...  \n",
       "1  Product arrived labeled as Jumbo Salted Peanut...  \n",
       "2  This is a confection that has been around a fe...  \n",
       "3  If you are looking for the secret ingredient i...  \n",
       "4  Great taffy at a great price.  There was a wid...  "
      ]
     },
     "execution_count": 121,
     "metadata": {},
     "output_type": "execute_result"
    }
   ],
   "source": [
    "df = pd.read_csv(\"input/ReviewsSmall.csv\", usecols=[\"Text\", \"Summary\", \"Score\"])\n",
    "print(df.shape)\n",
    "df.columns = df.columns.str.lower()\n",
    "df.head(5)"
   ]
  },
  {
   "cell_type": "code",
   "execution_count": 122,
   "metadata": {},
   "outputs": [
    {
     "data": {
      "text/plain": [
       "(array([1, 2, 3, 4, 5]), array([ 98,  47,  75, 138, 642]))"
      ]
     },
     "execution_count": 122,
     "metadata": {},
     "output_type": "execute_result"
    }
   ],
   "source": [
    "np.unique(df[\"score\"], return_counts=True)"
   ]
  },
  {
   "cell_type": "code",
   "execution_count": 123,
   "metadata": {},
   "outputs": [
    {
     "name": "stdout",
     "output_type": "stream",
     "text": [
      "Score 1: Product arrived labeled as Jumbo Salted Peanuts...the peanuts were actually small sized unsalted. Not sure if this was an error or if the vendor intended to represent the product as \"Jumbo\".\n",
      "Score 2: If you are looking for the secret ingredient in Robitussin I believe I have found it.  I got this in addition to the Root Beer Extract I ordered (which was good) and made some cherry soda.  The flavor is very medicinal.\n",
      "Score 3: This seems a little more wholesome than some of the supermarket brands, but it is somewhat mushy and doesn't have quite as much flavor either.  It didn't pass muster with my kids, so I probably won't buy it again.\n",
      "Score 4: This is a confection that has been around a few centuries.  It is a light, pillowy citrus gelatin with nuts - in this case Filberts. And it is cut into tiny squares and then liberally coated with powdered sugar.  And it is a tiny mouthful of heaven.  Not too chewy, and very flavorful.  I highly recommend this yummy treat.  If you are familiar with the story of C.S. Lewis' \"The Lion, The Witch, and The Wardrobe\" - this is the treat that seduces Edmund into selling out his Brother and Sisters to the Witch.\n",
      "Score 5: I have bought several of the Vitality canned dog food products and have found them all to be of good quality. The product looks more like a stew than a processed meat and it smells better. My Labrador is finicky and she appreciates this product better than  most.\n"
     ]
    }
   ],
   "source": [
    "for score in sorted(df[\"score\"].unique()):\n",
    "    sample = df.loc[df[\"score\"] == score, \"text\"].iloc[0]\n",
    "    print(f\"Score {score}: {sample}\")"
   ]
  },
  {
   "cell_type": "markdown",
   "metadata": {},
   "source": [
    "# VADER"
   ]
  },
  {
   "cell_type": "code",
   "execution_count": 124,
   "metadata": {},
   "outputs": [
    {
     "name": "stdout",
     "output_type": "stream",
     "text": [
      "{'neg': 0.0, 'neu': 0.308, 'pos': 0.692, 'compound': 0.6696}\n",
      "{'neg': 0.0, 'neu': 1.0, 'pos': 0.0, 'compound': 0.0}\n",
      "{'neg': 0.647, 'neu': 0.353, 'pos': 0.0, 'compound': -0.5661}\n"
     ]
    }
   ],
   "source": [
    "from nltk.sentiment.vader import SentimentIntensityAnalyzer\n",
    "\n",
    "vader = SentimentIntensityAnalyzer()\n",
    "print(vader.polarity_scores(\"I love my wife!\"))\n",
    "print(vader.polarity_scores(\"Nothing in particular.\"))\n",
    "print(vader.polarity_scores(\"I don't love you!\"))"
   ]
  },
  {
   "cell_type": "code",
   "execution_count": 125,
   "metadata": {},
   "outputs": [],
   "source": [
    "vader_preds = np.zeros(df.shape[0])\n",
    "\n",
    "for i, text in enumerate(df[\"text\"].values):\n",
    "    vader_preds[i] = vader.polarity_scores(text).get(\"compound\")"
   ]
  },
  {
   "cell_type": "code",
   "execution_count": 126,
   "metadata": {},
   "outputs": [
    {
     "data": {
      "text/plain": [
       "(1.0, 5.0)"
      ]
     },
     "execution_count": 126,
     "metadata": {},
     "output_type": "execute_result"
    }
   ],
   "source": [
    "vader_preds_normal = normalize_pred(vader_preds, 1, 5)\n",
    "vader_preds_normal.min(), vader_preds_normal.max()"
   ]
  },
  {
   "cell_type": "code",
   "execution_count": 127,
   "metadata": {},
   "outputs": [
    {
     "data": {
      "text/plain": [
       "Scores(mse=1.312321207809819, mae=0.7465035252345931, rmse=1.1455658897723078, r2=0.2522211585513854, evs=0.25536666650896)"
      ]
     },
     "execution_count": 127,
     "metadata": {},
     "output_type": "execute_result"
    }
   ],
   "source": [
    "return_regr_score(df[\"score\"].values, vader_preds_normal)"
   ]
  },
  {
   "cell_type": "code",
   "execution_count": 128,
   "metadata": {},
   "outputs": [
    {
     "name": "stdout",
     "output_type": "stream",
     "text": [
      "True Score/Vader = 1.000/3.641\n",
      "Kettle Branch Potato Chips New York Cheddar:  These are good if you like kettle fried potato chips that are waaaay salty, on the burnt side, and taste rancid, either because the cheese flavoring or the oil it was fried in was already old.  I want to like this brand of chips and try their new and other flavors every now and then.  But, after having tried all sorts of other brands of kettle cooked chips, these just don't hit the spot for me.\n",
      "\n",
      "True Score/Vader = 2.000/4.868\n",
      "I was extremely disappionted when I opened my shipment of Enjoy Life On The Go Bars (Very Berry, Carmel Apple, and Cocoa Loco). The boxes are now a plain, generic design..you know, the kind all brands change to when they want to make their products look cheaper. I then compared the ingredients of the new shipment with the older boxes I still had at home. Guess what?! Cheaper ingredients! Next, I taste-tested, and let my 3 year old help. He wouldn't eat the new ones...and I can't blame him. They are oily and bland. I thought Enjoy Life was a brand that actually cared about using quality ingredients to make a good-tasting product. I was wrong. In summary, these are way too expensive to be made with low-quality, unpalatable ingredients.\n",
      "\n",
      "True Score/Vader = 3.000/3.975\n",
      "This product is impossible to wash and actually get cleaned.  I couldn't get the food pieces out to save my life. I tried scrubbing them out and even washed it in the dishwasher as it suggests.\n",
      "\n",
      "True Score/Vader = 4.000/3.867\n",
      "being an old chemist with a spectrophotometer I am pleased when the chemical is what they say it is this is what they advertized\n",
      "\n",
      "True Score/Vader = 5.000/4.985\n",
      "I was pretty pleased with these mushrooms. They were mostly large pieces, re-hydrated well and had good flavor. I'd estimate about 25% of the contents were broken into medium to small pieces, most likely due to the shaking about in transit. Not a problem since I sometimes break the large pieces into smaller ones for some recipes. There was a small amount (perhaps an ounce or so) of very small/minced-size/dust-like pieces. Still useful to add into gravies and the like. Nothing gets wasted!<br /><br />The label says it is a product of China and Italy. Nothing was specified as to the proportion from each country.<br /><br />I'm quite fond of dried mushrooms. While they may lack the texture you can get only when using fresh ones, the convenience of always having them on hand is a big plus. Additionally, I find the broth used to re-hydrate them adds a wonderful flavor to soups and stews. To save time and add flavor, I sometimes add the dried mushrooms directly into the soup or stew without re-hydrating them. Really helps meld all the flavors together. I also am fond of adding some to the cooking water when boiling pasta. The pasta picks up a wonderful earthy flavor when it cooks in the mushroom-infused water.<br /><br />This was the first time I used the Roland brand (got it on a price dip from the Amazon Warehouse), and would certainly buy them again. Highly recommend.\n",
      "\n"
     ]
    }
   ],
   "source": [
    "for score in sorted(df[\"score\"].unique()):\n",
    "    sample_idx = df.loc[df[\"score\"] == score].sample(1).index.values[0]\n",
    "    text = df.loc[sample_idx, \"text\"]\n",
    "    true_score = df.loc[sample_idx, \"score\"]\n",
    "    vader_score = vader_preds_normal[sample_idx]\n",
    "    print(f\"True Score/Vader = {true_score:.3f}/{vader_score:.3f}\")\n",
    "    print(f\"{text}\")\n",
    "    print()"
   ]
  },
  {
   "cell_type": "markdown",
   "metadata": {},
   "source": [
    "# Roberta Pretarined Model"
   ]
  },
  {
   "cell_type": "code",
   "execution_count": 129,
   "metadata": {},
   "outputs": [
    {
     "name": "stderr",
     "output_type": "stream",
     "text": [
      "Some weights of the model checkpoint at cardiffnlp/twitter-roberta-base-sentiment-latest were not used when initializing RobertaForSequenceClassification: ['roberta.pooler.dense.bias', 'roberta.pooler.dense.weight']\n",
      "- This IS expected if you are initializing RobertaForSequenceClassification from the checkpoint of a model trained on another task or with another architecture (e.g. initializing a BertForSequenceClassification model from a BertForPreTraining model).\n",
      "- This IS NOT expected if you are initializing RobertaForSequenceClassification from the checkpoint of a model that you expect to be exactly identical (initializing a BertForSequenceClassification model from a BertForSequenceClassification model).\n"
     ]
    }
   ],
   "source": [
    "from transformers import AutoTokenizer\n",
    "from transformers import AutoModelForSequenceClassification\n",
    "from scipy.special import softmax\n",
    "\n",
    "\n",
    "def combine_scores(scores):\n",
    "    negative, neutral, positive = scores\n",
    "    if positive > neutral and positive > negative:\n",
    "        return positive  # Strong positive sentiment\n",
    "    elif negative > positive and negative > neutral:\n",
    "        return -negative  # Strong negative sentiment\n",
    "    else:\n",
    "        return neutral  # Neutral sentiment\n",
    "\n",
    "\n",
    "MODEL = f\"cardiffnlp/twitter-roberta-base-sentiment-latest\"\n",
    "tokenizer = AutoTokenizer.from_pretrained(MODEL)\n",
    "roberta_model = AutoModelForSequenceClassification.from_pretrained(MODEL)"
   ]
  },
  {
   "cell_type": "code",
   "execution_count": 138,
   "metadata": {},
   "outputs": [
    {
     "data": {
      "text/plain": [
       "0.73450536"
      ]
     },
     "execution_count": 138,
     "metadata": {},
     "output_type": "execute_result"
    }
   ],
   "source": [
    "sample = \"I love Cherrybrook Kitchen and have tried almost all of their products.  I was excited to try the Ready to Spread frosting, as I do not usually keep the needed ingredients on hand for their box frosting.  I am not a picky eater, especially if the item contains sugar... but this was horrible!  The consistency is absolutely nothing like regular canned frosting.  It is not light and fluffy.  It is very gooey.  I cannot even imagine trying to spread it on a cake - it would rip it to pieces because it is so thick and gooey.  I did not even try it on a cake, because the taste and texture were so off-putting.  Seriously, do not waste your money!\"\n",
    "\n",
    "endoded_sample = tokenizer(sample, return_tensors=\"pt\")\n",
    "output = roberta_model(**endoded_sample)\n",
    "scores = output[0][0].detach().numpy()\n",
    "scores = softmax(scores)\n",
    "scores = combine_scores(scores)\n",
    "scores"
   ]
  },
  {
   "cell_type": "code",
   "execution_count": 132,
   "metadata": {},
   "outputs": [
    {
     "name": "stderr",
     "output_type": "stream",
     "text": [
      "Processing:   0%|          | 0/1000 [00:00<?, ?it/s]"
     ]
    },
    {
     "name": "stderr",
     "output_type": "stream",
     "text": [
      "Processing: 100%|██████████| 1000/1000 [02:11<00:00,  7.63it/s]\n"
     ]
    }
   ],
   "source": [
    "roberta_preds = np.zeros(df.shape[0])\n",
    "\n",
    "for i, text in tqdm(enumerate(df[\"text\"].values), total=len(df), desc=\"Processing\"):\n",
    "    try:\n",
    "        endoded_text = tokenizer(text, return_tensors=\"pt\")\n",
    "        output = roberta_model(**endoded_text)\n",
    "        scores = output[0][0].detach().numpy()\n",
    "        scores = softmax(scores)\n",
    "        score = combine_scores(scores)\n",
    "    except RuntimeError:\n",
    "        score = 0\n",
    "    roberta_preds[i] = score"
   ]
  },
  {
   "cell_type": "code",
   "execution_count": 133,
   "metadata": {},
   "outputs": [
    {
     "data": {
      "text/plain": [
       "(1.0, 5.0)"
      ]
     },
     "execution_count": 133,
     "metadata": {},
     "output_type": "execute_result"
    }
   ],
   "source": [
    "roberta_preds_normal = normalize_pred(roberta_preds, 1, 5)\n",
    "roberta_preds_normal.min(), roberta_preds_normal.max()"
   ]
  },
  {
   "cell_type": "code",
   "execution_count": 134,
   "metadata": {},
   "outputs": [
    {
     "data": {
      "text/plain": [
       "Scores(mse=0.7827122513520923, mae=0.5085055407485638, rmse=0.8847102640707252, r2=0.5539996938093183, evs=0.5552486866284492)"
      ]
     },
     "execution_count": 134,
     "metadata": {},
     "output_type": "execute_result"
    }
   ],
   "source": [
    "return_regr_score(df[\"score\"].values, roberta_preds_normal)"
   ]
  },
  {
   "cell_type": "code",
   "execution_count": 139,
   "metadata": {},
   "outputs": [
    {
     "name": "stdout",
     "output_type": "stream",
     "text": [
      "True Score/Vader/Roberta = 1.000/1.868/1.008\n",
      "This oatmeal is not good. Its mushy, soft, I don't like it. Quaker Oats is the way to go.\n",
      "\n",
      "True Score/Vader/Roberta = 2.000/2.187/1.159\n",
      "I did not care for this product at all, I thought it was the same tea my sisters and I use to drink when we were in elementary school. I found out the tea we use to drink actually came from the root of a particular type of tree.\n",
      "\n",
      "True Score/Vader/Roberta = 3.000/1.995/2.176\n",
      "The pork chops from Omaha Steaks were very tasty but at the same time exceptionally dry. Pork is usually dry meat but these were to the extreme. Possibly shipping them frozen and keeping them frozen was partly the problem.\n",
      "\n",
      "True Score/Vader/Roberta = 4.000/4.409/4.955\n",
      "This kettle chips taste \"Good , Crispy & Crunchy \" too ! U will enjoy it also! Moreover,it's thinly cut & sliced!\n",
      "\n",
      "True Score/Vader/Roberta = 5.000/4.529/4.964\n",
      "I ordered these for my coffee themed wedding. When they arrived I had to fight off friends because they smelled and tasted so good. I literally had to hide the box to the wedding! They were a big hit on my wedding day and there were none left over that we put on the tables. It was a great tasting product for the lowest price I've seen!\n",
      "\n"
     ]
    }
   ],
   "source": [
    "for score in sorted(df[\"score\"].unique()):\n",
    "    sample_idx = df.loc[df[\"score\"] == score].sample(1).index.values[0]\n",
    "    text = df.loc[sample_idx, \"text\"]\n",
    "    true_score = df.loc[sample_idx, \"score\"]\n",
    "    vader_score = vader_preds_normal[sample_idx]\n",
    "    roberta_score = roberta_preds_normal[sample_idx]\n",
    "    print(f\"True Score/Vader/Roberta = {true_score:.3f}/{vader_score:.3f}/{roberta_score:.3f}\")\n",
    "    print(f\"{text}\")\n",
    "    print()"
   ]
  }
 ],
 "metadata": {
  "kernelspec": {
   "display_name": "ml",
   "language": "python",
   "name": "python3"
  },
  "language_info": {
   "codemirror_mode": {
    "name": "ipython",
    "version": 3
   },
   "file_extension": ".py",
   "mimetype": "text/x-python",
   "name": "python",
   "nbconvert_exporter": "python",
   "pygments_lexer": "ipython3",
   "version": "3.12.4"
  }
 },
 "nbformat": 4,
 "nbformat_minor": 2
}
